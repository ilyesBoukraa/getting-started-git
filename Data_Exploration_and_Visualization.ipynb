{
  "nbformat": 4,
  "nbformat_minor": 0,
  "metadata": {
    "colab": {
      "name": "Data Exploration and Visualization.ipynb",
      "provenance": [],
      "collapsed_sections": [],
      "include_colab_link": true
    },
    "kernelspec": {
      "display_name": "Python 3",
      "name": "python3"
    },
    "language_info": {
      "name": "python"
    }
  },
  "cells": [
    {
      "cell_type": "markdown",
      "metadata": {
        "id": "view-in-github",
        "colab_type": "text"
      },
      "source": [
        "<a href=\"https://colab.research.google.com/github/ilyesBoukraa/getting-started-git/blob/main/Data_Exploration_and_Visualization.ipynb\" target=\"_parent\"><img src=\"https://colab.research.google.com/assets/colab-badge.svg\" alt=\"Open In Colab\"/></a>"
      ]
    },
    {
      "cell_type": "markdown",
      "metadata": {
        "id": "dididh2AyHC6"
      },
      "source": [
        "#Resume"
      ]
    },
    {
      "cell_type": "markdown",
      "metadata": {
        "id": "26atAxBxyFy9"
      },
      "source": [
        "* Visualization immensely helps understanding models and data.\n",
        "* The course compares descriptive, exploratory, and confirmatory data analysis and visualization through practical examples and case studies. \n",
        "* The course takes students through various steps of data loading, transformation, imputation, and processing with different types of univariate, multivariate, and time-series data and discusses the models tools used for each type. \n",
        "* It provides students with guidelines and tools for obtaining, sampling and segmenting data and constructing informative visualizations by selecting the appropriate type of plot or chart given the dataset, problem requirement, or research question. \n",
        "* The course trains students to critically review a given data analysis and recognize misleading visualizations and discuss their ethical consequences. \n",
        "* The course provides an overview of highly dimensional data and challenges associated with handling and analyzing such data and algorithms and tools for mapping and projection of data for reduction and visualization purposes. \n",
        "* The course mainly uses Python for data analysis and visualization and provides a brief exploration of other tools such as Google charts.\n",
        "\n"
      ]
    },
    {
      "cell_type": "markdown",
      "metadata": {
        "id": "olR1fm3K1gNf"
      },
      "source": [
        "# Course Contents"
      ]
    },
    {
      "cell_type": "markdown",
      "metadata": {
        "id": "84r1uAtW1t8K"
      },
      "source": [
        "1.\tIntroduction: the role of data in science Hypothesis-driven vs. data-driven research  \n",
        "2.\tThe cognitive power of exploration/visualization in python\n",
        "3.\tReview of Statistics: descriptive vs. inferential \n",
        "4.\tIntro to Exploratory Data Analysis with Practical \n",
        "5.\tIntroduction to data visualization in Python\n",
        "6.\tUnivariate data and its visualization: chart types and practical \n",
        "7.\tBivariate and Multivariate data and its visualization\n",
        "8.\tBivariate data stats: Correlation, regression and power of geometric interpretation \n",
        "9.\tRegression practical  (Python)\n",
        "10.\tTime-series data analysis and visualization \n",
        "11.\tVisualizing time-series data practical\n",
        "12.\tDataset planning research questions: exploration vs. hypothesis\n",
        "13.\tMultivariate data analysis and visualization  \n",
        "14.\tMultivariate data analysis and visualization practical  \n",
        "15.\tHow to obtain data? Sampling and segmentation of data  \n",
        "16.\tPractical on constructing, linking, and transforming datasets \n",
        "17.\tClustering and classification of data points \n",
        "18.\tPrincipal Component Analysis\n",
        "19.\tBig Data and its challenges \n",
        "20.\tProjections, Mapping, and visualization of highly dimensional data \n",
        "21.\tTopics in data land: Sampling, Bias and Misleading Visualizations \n",
        "22.\tCase studies: Vaxxed (documentary),  Art: What do you see?\n",
        "23.\tVisualization in research: explainable AI, interpreting neural models, understanding and testing performance of models  \n",
        "24.\tSummarizing and Visualization Textual Data\n",
        "25.\tPractical: processing text data and word vector visualizations\n"
      ]
    },
    {
      "cell_type": "markdown",
      "metadata": {
        "id": "gvgP-21d3NUc"
      },
      "source": [
        "# 1. Introduction: the role of data in science Hypothesis-driven vs. data-driven research"
      ]
    },
    {
      "cell_type": "markdown",
      "metadata": {
        "id": "xIDcKOLwE8jT"
      },
      "source": [
        "**Hypothesis-driven vs. data-drive:**\n",
        "* Science progresses are done in a dualistic fashion. Either generate a new hypothesis out of existing data and conduct science in a **data-driven** way, or generate new data for an existing hypothesis and conduct science in a **hypothesis-driven** way. \n",
        "* For instance, Kepler used data-driven science to come up with the laws of planetary motion. Whereas Einstein used hypothesis-driven to validate the theory of General relativity by asking experimenters to verify the theory’s predictions.\n",
        "\n",
        "**why data-driven?**\n",
        "* Data-driven science involves tinkering and “not really knowing what you are doing”. This leads to less biases and more serendipitous connections, and thereby to the discovery of more transformative ideas and hitherto unknown interesting patterns."
      ]
    },
    {
      "cell_type": "markdown",
      "metadata": {
        "id": "A8phC4-V3God"
      },
      "source": [
        "# 2.\tThe cognitive power of exploration/visualization in python\n"
      ]
    },
    {
      "cell_type": "markdown",
      "metadata": {
        "id": "mvUPuueC3U7A"
      },
      "source": [
        "* Data visualization is a form of external cognition- something that aids internal cognition to do better and pushes it to see the patterns.\n",
        "* The brain loves patterns because they presnt the relationships in information presented.\n",
        "* Jacques Bertin, , defines data visualizing as \"a system of signs that convey meaning\".\n",
        "* it helps to communicate and jump through three levels of information (Elementary, Intermediate, Overall) using eight variables of visual encoding"
      ]
    },
    {
      "cell_type": "code",
      "metadata": {
        "colab": {
          "base_uri": "https://localhost:8080/",
          "height": 864
        },
        "id": "jve_w2gL4w1f",
        "outputId": "d21218b5-bc09-45cb-b7d7-622109f712fc"
      },
      "source": [
        "import matplotlib.pyplot as plt\n",
        "import numpy as np\n",
        "fig = plt.figure(figsize=(10, 3))\n",
        "\n",
        "\n",
        "time        = np.arange(0, 20, 0.1);\n",
        "data   = np.sin(time)\n",
        "print(data)\n",
        "\n",
        "#Elementary\n",
        "fig.add_subplot(1,3,1)\n",
        "plt.title('Elementary')\n",
        "plt.plot(time[20], data[20], '*')\n",
        "\n",
        "#Intermediate\n",
        "fig.add_subplot(1,3,2) \n",
        "plt.title('Intermediate')\n",
        "plt.plot(time[17:22], data[17:22], '*')\n",
        "\n",
        "#Overal\n",
        "fig.add_subplot(1,3,3)\n",
        "plt.title('Overal')\n",
        "plt.plot(time, data, '*')"
      ],
      "execution_count": null,
      "outputs": [
        {
          "name": "stdout",
          "output_type": "stream",
          "text": [
            "[ 0.          0.09983342  0.19866933  0.29552021  0.38941834  0.47942554\n",
            "  0.56464247  0.64421769  0.71735609  0.78332691  0.84147098  0.89120736\n",
            "  0.93203909  0.96355819  0.98544973  0.99749499  0.9995736   0.99166481\n",
            "  0.97384763  0.94630009  0.90929743  0.86320937  0.8084964   0.74570521\n",
            "  0.67546318  0.59847214  0.51550137  0.42737988  0.33498815  0.23924933\n",
            "  0.14112001  0.04158066 -0.05837414 -0.15774569 -0.2555411  -0.35078323\n",
            " -0.44252044 -0.52983614 -0.61185789 -0.68776616 -0.7568025  -0.81827711\n",
            " -0.87157577 -0.91616594 -0.95160207 -0.97753012 -0.993691   -0.99992326\n",
            " -0.99616461 -0.98245261 -0.95892427 -0.92581468 -0.88345466 -0.83226744\n",
            " -0.77276449 -0.70554033 -0.63126664 -0.55068554 -0.46460218 -0.37387666\n",
            " -0.2794155  -0.1821625  -0.0830894   0.0168139   0.1165492   0.21511999\n",
            "  0.31154136  0.40484992  0.49411335  0.57843976  0.6569866   0.72896904\n",
            "  0.79366786  0.85043662  0.8987081   0.93799998  0.96791967  0.98816823\n",
            "  0.99854335  0.99894134  0.98935825  0.96988981  0.94073056  0.90217183\n",
            "  0.85459891  0.79848711  0.7343971   0.66296923  0.58491719  0.50102086\n",
            "  0.41211849  0.31909836  0.22288991  0.12445442  0.02477543 -0.07515112\n",
            " -0.17432678 -0.27176063 -0.36647913 -0.45753589 -0.54402111 -0.62507065\n",
            " -0.69987469 -0.76768581 -0.82782647 -0.87969576 -0.92277542 -0.95663502\n",
            " -0.98093623 -0.99543625 -0.99999021 -0.99455259 -0.97917773 -0.95401925\n",
            " -0.91932853 -0.87545217 -0.82282859 -0.76198358 -0.69352508 -0.61813711\n",
            " -0.53657292 -0.44964746 -0.35822928 -0.26323179 -0.16560418 -0.0663219\n",
            "  0.03362305  0.13323204  0.23150983  0.32747444  0.42016704  0.50866146\n",
            "  0.59207351  0.66956976  0.74037589  0.80378443  0.85916181  0.90595474\n",
            "  0.94369567  0.9720075   0.99060736  0.99930939  0.99802665  0.98677196\n",
            "  0.96565778  0.93489506  0.89479117  0.84574683  0.78825207  0.72288135\n",
            "  0.65028784  0.57119687  0.48639869  0.39674057  0.30311836  0.20646748\n",
            "  0.10775365  0.00796318 -0.09190685 -0.19085858 -0.28790332 -0.38207142\n",
            " -0.47242199 -0.55805227 -0.63810668 -0.71178534 -0.77835208 -0.83714178\n",
            " -0.88756703 -0.92912401 -0.96139749 -0.98406501 -0.99690007 -0.99977443\n",
            " -0.99265938 -0.97562601 -0.9488445  -0.91258245 -0.86720218 -0.81315711\n",
            " -0.75098725 -0.68131377 -0.60483282 -0.52230859 -0.43456562 -0.34248062\n",
            " -0.24697366 -0.14899903 -0.04953564  0.05042269  0.14987721  0.24783421\n",
            "  0.34331493  0.43536536  0.52306577  0.60553987  0.68196362  0.75157342\n",
            "  0.81367374  0.8676441 ]\n"
          ]
        },
        {
          "data": {
            "text/plain": [
              "[<matplotlib.lines.Line2D at 0x7efe2f8d4f90>]"
            ]
          },
          "execution_count": 1,
          "metadata": {},
          "output_type": "execute_result"
        },
        {
          "data": {
            "image/png": "[encoded data removed]",
            "text/plain": [
              "<Figure size 720x216 with 3 Axes>"
            ]
          },
          "metadata": {},
          "output_type": "display_data"
        }
      ]
    },
    {
      "cell_type": "markdown",
      "metadata": {
        "id": "-opd-QG37iRk"
      },
      "source": [
        "* Data visualizations can be formed through the usage of the 8 variables of visual encoding, which are:\n",
        "    1. X and Y (2 variables) which translate to position\n",
        "    2. Size\n",
        "    3. Value\n",
        "    4. Texture\n",
        "    5. Color/Hue\n",
        "    6. Orientation\n",
        "    7. Shape<br>\n",
        "<img src=\"https://miro.medium.com/max/468/1*HqbTQEOOzmj_-ZkmhLrrew.png\"></img>\n",
        "\n",
        "* This enables one to answer questions presented through the visual analysis process where one can identify a problem or an objective and then structure the data accordingly to process it and simplify without destruction. \n",
        "* This process that uses the power of information and Bertin’s eight variables of visual encoding creates the conditions for apt cognitive processing of data for the purposes of communication.\n",
        "* Using these variables causes for an arrangement of ideal cognitive conditions where the brain works towards decision-making and/or identification of relationships within the image"
      ]
    },
    {
      "cell_type": "markdown",
      "metadata": {
        "id": "-CASUjA1Lt4Y"
      },
      "source": [
        "# 3.Review of Statistics: descriptive vs. inferential"
      ]
    },
    {
      "cell_type": "markdown",
      "metadata": {
        "id": "rxg0GzbYNuaK"
      },
      "source": [
        "<img src=\"https://miro.medium.com/max/1164/1*WD8uN3s7_eo1peVehPZAVA.jpeg\"> <img><br>\n",
        "**Example:** The following example shows how to perform descriptive statistic from data"
      ]
    },
    {
      "cell_type": "code",
      "metadata": {
        "colab": {
          "base_uri": "https://localhost:8080/"
        },
        "id": "U0lqcPOBPDwD",
        "outputId": "8e579e43-bac0-4bcf-d7b0-25f60c9814b6"
      },
      "source": [
        "import pandas as pd\n",
        "import numpy as np\n",
        "\n",
        "#Create a Dictionary of series\n",
        "d = {'Name':pd.Series(['Tom','James','Ricky','Vin','Steve','Smith','Jack',\n",
        "   'Lee','David','Gasper','Betina','Andres']),\n",
        "   'Age':pd.Series([25,26,25,23,30,29,23,34,40,30,51,46]),\n",
        "   'Rating':pd.Series([4.23,3.24,3.98,2.56,3.20,4.6,3.8,3.78,2.98,4.80,4.10,3.65])\n",
        "}\n",
        "\n",
        "#Create a DataFrame\n",
        "df = pd.DataFrame(d)\n",
        "print (df. describe(include='all'))"
      ],
      "execution_count": null,
      "outputs": [
        {
          "name": "stdout",
          "output_type": "stream",
          "text": [
            "       Name        Age     Rating\n",
            "count    12  12.000000  12.000000\n",
            "unique   12        NaN        NaN\n",
            "top     Vin        NaN        NaN\n",
            "freq      1        NaN        NaN\n",
            "mean    NaN  31.833333   3.743333\n",
            "std     NaN   9.232682   0.661628\n",
            "min     NaN  23.000000   2.560000\n",
            "25%     NaN  25.000000   3.230000\n",
            "50%     NaN  29.500000   3.790000\n",
            "75%     NaN  35.500000   4.132500\n",
            "max     NaN  51.000000   4.800000\n"
          ]
        }
      ]
    },
    {
      "cell_type": "markdown",
      "metadata": {
        "id": "QoMGS0i48qYm"
      },
      "source": [
        "# 4.Intro to Exploratory Data Analysis with Practical"
      ]
    },
    {
      "cell_type": "markdown",
      "metadata": {
        "id": "P0SzvYtARiLE"
      },
      "source": [
        "* Exploratory Data Analysis (EDA) in Python is the first step in your data analysis process developed by “John Tukey” in the 1970s. \n",
        "* In statistics, exploratory data analysis is an approach to analyzing data sets to summarize their main characteristics, often with visual methods.\n",
        "* The main aim of exploratory data analysis is to obtain confidence in our data to an extent where we’re ready to engage a machine learning algorithm.\n",
        "* EDA allows to know whether the selected features are good enough to model, are all the features required, are there any correlations based on which we can either go back to the Data Pre-processing step or move on to modeling.\n",
        "* By completing the EDA you will have many plots, heat-maps, frequency distribution, graphs, correlation matrix along with the hypothesis by which any individual can understand what your data is all about and what insights you got from exploring your data set.\n",
        "\n",
        "**Steps In Exploratory Data Analysis:**<br>\n",
        "There are many steps for conducting Exploratory data analysis, The most important are:\n",
        "1. Description of data\n",
        "2. Handling missing data\n",
        "3. Handling outliers\n",
        "4. Understanding relationships and new insights through plots"
      ]
    },
    {
      "cell_type": "markdown",
      "metadata": {
        "id": "EdrwZauafHUk"
      },
      "source": [
        "**Description of data:**<br>\n",
        "We need to know the different kinds of data and other statistics of our data before we can move on to the other steps."
      ]
    },
    {
      "cell_type": "code",
      "metadata": {
        "colab": {
          "base_uri": "https://localhost:8080/",
          "height": 319
        },
        "id": "1u_IkcPMfXPE",
        "outputId": "5a7dc1f0-42bc-4916-e341-8475d0551e19"
      },
      "source": [
        "import pandas as pd\n",
        "from sklearn.datasets import load_diabetes\n",
        " \n",
        "diabetes = load_diabetes()\n",
        "x = diabetes.data\n",
        "y = diabetes.target\n",
        "columns = diabetes.feature_names\n",
        "# creating dataframes\n",
        "diabetes_df = pd.DataFrame(diabetes.data)\n",
        "diabetes_df.columns = columns\n",
        "diabetes_df.describe()"
      ],
      "execution_count": null,
      "outputs": [
        {
          "data": {
            "text/html": [
              "<div>\n",
              "<style scoped>\n",
              "    .dataframe tbody tr th:only-of-type {\n",
              "        vertical-align: middle;\n",
              "    }\n",
              "\n",
              "    .dataframe tbody tr th {\n",
              "        vertical-align: top;\n",
              "    }\n",
              "\n",
              "    .dataframe thead th {\n",
              "        text-align: right;\n",
              "    }\n",
              "</style>\n",
              "<table border=\"1\" class=\"dataframe\">\n",
              "  <thead>\n",
              "    <tr style=\"text-align: right;\">\n",
              "      <th></th>\n",
              "      <th>age</th>\n",
              "      <th>sex</th>\n",
              "      <th>bmi</th>\n",
              "      <th>bp</th>\n",
              "      <th>s1</th>\n",
              "      <th>s2</th>\n",
              "      <th>s3</th>\n",
              "      <th>s4</th>\n",
              "      <th>s5</th>\n",
              "      <th>s6</th>\n",
              "    </tr>\n",
              "  </thead>\n",
              "  <tbody>\n",
              "    <tr>\n",
              "      <th>count</th>\n",
              "      <td>4.420000e+02</td>\n",
              "      <td>4.420000e+02</td>\n",
              "      <td>4.420000e+02</td>\n",
              "      <td>4.420000e+02</td>\n",
              "      <td>4.420000e+02</td>\n",
              "      <td>4.420000e+02</td>\n",
              "      <td>4.420000e+02</td>\n",
              "      <td>4.420000e+02</td>\n",
              "      <td>4.420000e+02</td>\n",
              "      <td>4.420000e+02</td>\n",
              "    </tr>\n",
              "    <tr>\n",
              "      <th>mean</th>\n",
              "      <td>-3.634285e-16</td>\n",
              "      <td>1.308343e-16</td>\n",
              "      <td>-8.045349e-16</td>\n",
              "      <td>1.281655e-16</td>\n",
              "      <td>-8.835316e-17</td>\n",
              "      <td>1.327024e-16</td>\n",
              "      <td>-4.574646e-16</td>\n",
              "      <td>3.777301e-16</td>\n",
              "      <td>-3.830854e-16</td>\n",
              "      <td>-3.412882e-16</td>\n",
              "    </tr>\n",
              "    <tr>\n",
              "      <th>std</th>\n",
              "      <td>4.761905e-02</td>\n",
              "      <td>4.761905e-02</td>\n",
              "      <td>4.761905e-02</td>\n",
              "      <td>4.761905e-02</td>\n",
              "      <td>4.761905e-02</td>\n",
              "      <td>4.761905e-02</td>\n",
              "      <td>4.761905e-02</td>\n",
              "      <td>4.761905e-02</td>\n",
              "      <td>4.761905e-02</td>\n",
              "      <td>4.761905e-02</td>\n",
              "    </tr>\n",
              "    <tr>\n",
              "      <th>min</th>\n",
              "      <td>-1.072256e-01</td>\n",
              "      <td>-4.464164e-02</td>\n",
              "      <td>-9.027530e-02</td>\n",
              "      <td>-1.123996e-01</td>\n",
              "      <td>-1.267807e-01</td>\n",
              "      <td>-1.156131e-01</td>\n",
              "      <td>-1.023071e-01</td>\n",
              "      <td>-7.639450e-02</td>\n",
              "      <td>-1.260974e-01</td>\n",
              "      <td>-1.377672e-01</td>\n",
              "    </tr>\n",
              "    <tr>\n",
              "      <th>25%</th>\n",
              "      <td>-3.729927e-02</td>\n",
              "      <td>-4.464164e-02</td>\n",
              "      <td>-3.422907e-02</td>\n",
              "      <td>-3.665645e-02</td>\n",
              "      <td>-3.424784e-02</td>\n",
              "      <td>-3.035840e-02</td>\n",
              "      <td>-3.511716e-02</td>\n",
              "      <td>-3.949338e-02</td>\n",
              "      <td>-3.324879e-02</td>\n",
              "      <td>-3.317903e-02</td>\n",
              "    </tr>\n",
              "    <tr>\n",
              "      <th>50%</th>\n",
              "      <td>5.383060e-03</td>\n",
              "      <td>-4.464164e-02</td>\n",
              "      <td>-7.283766e-03</td>\n",
              "      <td>-5.670611e-03</td>\n",
              "      <td>-4.320866e-03</td>\n",
              "      <td>-3.819065e-03</td>\n",
              "      <td>-6.584468e-03</td>\n",
              "      <td>-2.592262e-03</td>\n",
              "      <td>-1.947634e-03</td>\n",
              "      <td>-1.077698e-03</td>\n",
              "    </tr>\n",
              "    <tr>\n",
              "      <th>75%</th>\n",
              "      <td>3.807591e-02</td>\n",
              "      <td>5.068012e-02</td>\n",
              "      <td>3.124802e-02</td>\n",
              "      <td>3.564384e-02</td>\n",
              "      <td>2.835801e-02</td>\n",
              "      <td>2.984439e-02</td>\n",
              "      <td>2.931150e-02</td>\n",
              "      <td>3.430886e-02</td>\n",
              "      <td>3.243323e-02</td>\n",
              "      <td>2.791705e-02</td>\n",
              "    </tr>\n",
              "    <tr>\n",
              "      <th>max</th>\n",
              "      <td>1.107267e-01</td>\n",
              "      <td>5.068012e-02</td>\n",
              "      <td>1.705552e-01</td>\n",
              "      <td>1.320442e-01</td>\n",
              "      <td>1.539137e-01</td>\n",
              "      <td>1.987880e-01</td>\n",
              "      <td>1.811791e-01</td>\n",
              "      <td>1.852344e-01</td>\n",
              "      <td>1.335990e-01</td>\n",
              "      <td>1.356118e-01</td>\n",
              "    </tr>\n",
              "  </tbody>\n",
              "</table>\n",
              "</div>"
            ],
            "text/plain": [
              "                age           sex  ...            s5            s6\n",
              "count  4.420000e+02  4.420000e+02  ...  4.420000e+02  4.420000e+02\n",
              "mean  -3.634285e-16  1.308343e-16  ... -3.830854e-16 -3.412882e-16\n",
              "std    4.761905e-02  4.761905e-02  ...  4.761905e-02  4.761905e-02\n",
              "min   -1.072256e-01 -4.464164e-02  ... -1.260974e-01 -1.377672e-01\n",
              "25%   -3.729927e-02 -4.464164e-02  ... -3.324879e-02 -3.317903e-02\n",
              "50%    5.383060e-03 -4.464164e-02  ... -1.947634e-03 -1.077698e-03\n",
              "75%    3.807591e-02  5.068012e-02  ...  3.243323e-02  2.791705e-02\n",
              "max    1.107267e-01  5.068012e-02  ...  1.335990e-01  1.356118e-01\n",
              "\n",
              "[8 rows x 10 columns]"
            ]
          },
          "execution_count": 3,
          "metadata": {},
          "output_type": "execute_result"
        }
      ]
    },
    {
      "cell_type": "markdown",
      "metadata": {
        "id": "OmGJiDF0gVB0"
      },
      "source": [
        "**Handling missing data:**:<br>\n",
        "Data in the real-world are rarely clean and homogeneous. Data can either be missing during data extraction or collection due to several reasons.Missing data reduce the quality of any system. There are several options for handling missing value:\n",
        "* Drop NULL or missing values: the fastest and easiest step but reduces data and quality.\n",
        "* Fill Missing Values: The most common method of handling missing values (replace with mean or median).\n",
        "* Predict Missing values with an ML Algorithm: the best and most efficient methods for handling missing data."
      ]
    },
    {
      "cell_type": "code",
      "metadata": {
        "colab": {
          "base_uri": "https://localhost:8080/"
        },
        "id": "efDG9ndcg1Ol",
        "outputId": "8d54b897-6723-4960-a6ae-74843264ca4a"
      },
      "source": [
        "#drop nan\n",
        "diabetes_df.dropna()\n",
        "#fill nan\n",
        "diabetes_df['age'].fillna(diabetes_df['age'].mean())"
      ],
      "execution_count": null,
      "outputs": [
        {
          "data": {
            "text/plain": [
              "0      0.038076\n",
              "1     -0.001882\n",
              "2      0.085299\n",
              "3     -0.089063\n",
              "4      0.005383\n",
              "         ...   \n",
              "437    0.041708\n",
              "438   -0.005515\n",
              "439    0.041708\n",
              "440   -0.045472\n",
              "441   -0.045472\n",
              "Name: age, Length: 442, dtype: float64"
            ]
          },
          "execution_count": 4,
          "metadata": {},
          "output_type": "execute_result"
        }
      ]
    },
    {
      "cell_type": "markdown",
      "metadata": {
        "id": "IDzx489FjX2j"
      },
      "source": [
        "**Handling outliers:**<br>\n",
        "* An outlier is something which is separate or different from the crowd. \n",
        "* Outliers can be a result of a mistake during data collection or it can be just an indication of variance in your data.\n",
        "*  Some of the methods for detecting and handling outliers are: BoxPlot,scatterplot, Z-score, IQR(Inter-Quartile Range)"
      ]
    },
    {
      "cell_type": "code",
      "metadata": {
        "colab": {
          "base_uri": "https://localhost:8080/",
          "height": 243
        },
        "id": "A7DebSp7j8QQ",
        "outputId": "a9414b5e-a8e6-4fde-f25c-545dbe69dc6e"
      },
      "source": [
        "import seaborn as sns\n",
        "import matplotlib.pyplot as plt\n",
        "import numpy as np\n",
        "fig = plt.figure(figsize=(10, 3))\n",
        "#boxplot\n",
        "fig.add_subplot(1,3,1)\n",
        "sns.boxplot(x=diabetes_df.bmi)\n",
        "\n",
        "#scatter\n",
        "fig.add_subplot(1,3,2)\n",
        "sns.scatterplot(x = diabetes_df.bp, y = diabetes_df.s1)\n",
        "\n",
        "#IQR\n",
        "Q1 = diabetes_df.quantile(0.25)\n",
        "Q3 = diabetes_df.quantile(0.75)\n",
        "IQR = Q3- Q1\n",
        "outliers_range = ((diabetes_df.bp< (Q1.bp - 0.8*IQR.bp)) | (diabetes_df.bp > (Q3.bp + 0.8*IQR.bp)) & (diabetes_df.s1< (Q1.s1 - 0.8*IQR.s1)) | (diabetes_df.s1 > (Q3.s1 + 0.8*IQR.s1)))\n",
        "fig.add_subplot(1,3,3)\n",
        "sns.scatterplot(x = diabetes_df.bp, y = diabetes_df.s1)\n",
        "sns.scatterplot(x = diabetes_df[outliers_range].bp, y = diabetes_df[outliers_range].s1)\n",
        "Q3.bp, Q3.s1"
      ],
      "execution_count": null,
      "outputs": [
        {
          "data": {
            "text/plain": [
              "(0.0356438377699009, 0.028358014845663224)"
            ]
          },
          "execution_count": 5,
          "metadata": {},
          "output_type": "execute_result"
        },
        {
          "data": {
            "image/png": "[encoded data removed]",
            "text/plain": [
              "<Figure size 720x216 with 3 Axes>"
            ]
          },
          "metadata": {},
          "output_type": "display_data"
        }
      ]
    },
    {
      "cell_type": "markdown",
      "metadata": {
        "id": "w8-6BaZi8Bl1"
      },
      "source": [
        "**Practical Example:**<br>\n",
        "Let's supose that Khaled, a student, has scored the following marks:"
      ]
    },
    {
      "cell_type": "code",
      "metadata": {
        "colab": {
          "base_uri": "https://localhost:8080/",
          "height": 425
        },
        "id": "KQs7t3OX-KYj",
        "outputId": "bd1d5800-138b-45e6-ea9c-b29a8107fac5"
      },
      "source": [
        "import pandas as pd\n",
        "data = [(12\t,11.5\t,5\t,\"20:00\"),\n",
        "                  (12.5\t,13\t,8\t,\"21:00\"),\n",
        "                  (18\t,17\t,6\t,\"23:00\"),\n",
        "                  (10\t,11\t,7\t,\"20:00\"),\n",
        "                  (14\t,15\t, np.nan\t,\"09:00\"),\n",
        "                  (9\t,8.5\t,6.5\t,\"17:00\"),\n",
        "                  (15\t,14.5\t,20\t,\"09:30\"),\n",
        "                  (16\t,15.5\t,11\t,\"22:00\"),\n",
        "                  (15.5\t,15\t,11\t,\"22:14\"),\n",
        "                  (16\t,np.nan\t,11.5\t,\"22:00\"),\n",
        "                  (16\t,15.5\t,12\t,\"22:20\"),\n",
        "                  (16.5\t,15\t,13\t,\"22:20\")]\n",
        "\n",
        "data = pd.DataFrame(data, columns=['Math', 'Physics', 'English', 'Sleep_Time'])\n",
        "data['Sleep_Time'] = pd.to_datetime(data['Sleep_Time']).dt.time\n",
        "data"
      ],
      "execution_count": null,
      "outputs": [
        {
          "data": {
            "text/html": [
              "<div>\n",
              "<style scoped>\n",
              "    .dataframe tbody tr th:only-of-type {\n",
              "        vertical-align: middle;\n",
              "    }\n",
              "\n",
              "    .dataframe tbody tr th {\n",
              "        vertical-align: top;\n",
              "    }\n",
              "\n",
              "    .dataframe thead th {\n",
              "        text-align: right;\n",
              "    }\n",
              "</style>\n",
              "<table border=\"1\" class=\"dataframe\">\n",
              "  <thead>\n",
              "    <tr style=\"text-align: right;\">\n",
              "      <th></th>\n",
              "      <th>Math</th>\n",
              "      <th>Physics</th>\n",
              "      <th>English</th>\n",
              "      <th>Sleep_Time</th>\n",
              "    </tr>\n",
              "  </thead>\n",
              "  <tbody>\n",
              "    <tr>\n",
              "      <th>0</th>\n",
              "      <td>12.0</td>\n",
              "      <td>11.5</td>\n",
              "      <td>5.0</td>\n",
              "      <td>20:00:00</td>\n",
              "    </tr>\n",
              "    <tr>\n",
              "      <th>1</th>\n",
              "      <td>12.5</td>\n",
              "      <td>13.0</td>\n",
              "      <td>8.0</td>\n",
              "      <td>21:00:00</td>\n",
              "    </tr>\n",
              "    <tr>\n",
              "      <th>2</th>\n",
              "      <td>18.0</td>\n",
              "      <td>17.0</td>\n",
              "      <td>6.0</td>\n",
              "      <td>23:00:00</td>\n",
              "    </tr>\n",
              "    <tr>\n",
              "      <th>3</th>\n",
              "      <td>10.0</td>\n",
              "      <td>11.0</td>\n",
              "      <td>7.0</td>\n",
              "      <td>20:00:00</td>\n",
              "    </tr>\n",
              "    <tr>\n",
              "      <th>4</th>\n",
              "      <td>14.0</td>\n",
              "      <td>15.0</td>\n",
              "      <td>NaN</td>\n",
              "      <td>09:00:00</td>\n",
              "    </tr>\n",
              "    <tr>\n",
              "      <th>5</th>\n",
              "      <td>9.0</td>\n",
              "      <td>8.5</td>\n",
              "      <td>6.5</td>\n",
              "      <td>17:00:00</td>\n",
              "    </tr>\n",
              "    <tr>\n",
              "      <th>6</th>\n",
              "      <td>15.0</td>\n",
              "      <td>14.5</td>\n",
              "      <td>20.0</td>\n",
              "      <td>09:30:00</td>\n",
              "    </tr>\n",
              "    <tr>\n",
              "      <th>7</th>\n",
              "      <td>16.0</td>\n",
              "      <td>15.5</td>\n",
              "      <td>11.0</td>\n",
              "      <td>22:00:00</td>\n",
              "    </tr>\n",
              "    <tr>\n",
              "      <th>8</th>\n",
              "      <td>15.5</td>\n",
              "      <td>15.0</td>\n",
              "      <td>11.0</td>\n",
              "      <td>22:14:00</td>\n",
              "    </tr>\n",
              "    <tr>\n",
              "      <th>9</th>\n",
              "      <td>16.0</td>\n",
              "      <td>NaN</td>\n",
              "      <td>11.5</td>\n",
              "      <td>22:00:00</td>\n",
              "    </tr>\n",
              "    <tr>\n",
              "      <th>10</th>\n",
              "      <td>16.0</td>\n",
              "      <td>15.5</td>\n",
              "      <td>12.0</td>\n",
              "      <td>22:20:00</td>\n",
              "    </tr>\n",
              "    <tr>\n",
              "      <th>11</th>\n",
              "      <td>16.5</td>\n",
              "      <td>15.0</td>\n",
              "      <td>13.0</td>\n",
              "      <td>22:20:00</td>\n",
              "    </tr>\n",
              "  </tbody>\n",
              "</table>\n",
              "</div>"
            ],
            "text/plain": [
              "    Math  Physics  English Sleep_Time\n",
              "0   12.0     11.5      5.0   20:00:00\n",
              "1   12.5     13.0      8.0   21:00:00\n",
              "2   18.0     17.0      6.0   23:00:00\n",
              "3   10.0     11.0      7.0   20:00:00\n",
              "4   14.0     15.0      NaN   09:00:00\n",
              "5    9.0      8.5      6.5   17:00:00\n",
              "6   15.0     14.5     20.0   09:30:00\n",
              "7   16.0     15.5     11.0   22:00:00\n",
              "8   15.5     15.0     11.0   22:14:00\n",
              "9   16.0      NaN     11.5   22:00:00\n",
              "10  16.0     15.5     12.0   22:20:00\n",
              "11  16.5     15.0     13.0   22:20:00"
            ]
          },
          "execution_count": 6,
          "metadata": {},
          "output_type": "execute_result"
        }
      ]
    },
    {
      "cell_type": "markdown",
      "metadata": {
        "id": "Pw2HMuKZ94lG"
      },
      "source": [
        "The question here is what are the causes affecting Khaled's marks?:<br>\n",
        "**performing EDA** <br>"
      ]
    },
    {
      "cell_type": "markdown",
      "metadata": {
        "id": "fRn5-8s-DKJJ"
      },
      "source": [
        "We aim at performing EDA. But first, we have to fill the missing data."
      ]
    },
    {
      "cell_type": "code",
      "metadata": {
        "id": "WnmhGis9DM7P"
      },
      "source": [
        "new_data = data.fillna(method=\"ffill\")\n",
        "new_data\n",
        "new_data.info()"
      ],
      "execution_count": null,
      "outputs": []
    },
    {
      "cell_type": "markdown",
      "metadata": {
        "id": "GmLswsj5Fh1v"
      },
      "source": [
        "Now let's print some descriptions about the data, What do you conclude from these descriptions?"
      ]
    },
    {
      "cell_type": "code",
      "metadata": {
        "colab": {
          "base_uri": "https://localhost:8080/",
          "height": 393
        },
        "id": "tEl_EIYUFsEH",
        "outputId": "4b9c166e-1670-4e42-c7ed-9c5a1a3b1087"
      },
      "source": [
        "new_data.describe(include='all')"
      ],
      "execution_count": null,
      "outputs": [
        {
          "data": {
            "text/html": [
              "<div>\n",
              "<style scoped>\n",
              "    .dataframe tbody tr th:only-of-type {\n",
              "        vertical-align: middle;\n",
              "    }\n",
              "\n",
              "    .dataframe tbody tr th {\n",
              "        vertical-align: top;\n",
              "    }\n",
              "\n",
              "    .dataframe thead th {\n",
              "        text-align: right;\n",
              "    }\n",
              "</style>\n",
              "<table border=\"1\" class=\"dataframe\">\n",
              "  <thead>\n",
              "    <tr style=\"text-align: right;\">\n",
              "      <th></th>\n",
              "      <th>Math</th>\n",
              "      <th>Physics</th>\n",
              "      <th>English</th>\n",
              "      <th>Sleep_Time</th>\n",
              "    </tr>\n",
              "  </thead>\n",
              "  <tbody>\n",
              "    <tr>\n",
              "      <th>count</th>\n",
              "      <td>12.000000</td>\n",
              "      <td>12.000000</td>\n",
              "      <td>12.000000</td>\n",
              "      <td>12</td>\n",
              "    </tr>\n",
              "    <tr>\n",
              "      <th>unique</th>\n",
              "      <td>NaN</td>\n",
              "      <td>NaN</td>\n",
              "      <td>NaN</td>\n",
              "      <td>9</td>\n",
              "    </tr>\n",
              "    <tr>\n",
              "      <th>top</th>\n",
              "      <td>NaN</td>\n",
              "      <td>NaN</td>\n",
              "      <td>NaN</td>\n",
              "      <td>20:00:00</td>\n",
              "    </tr>\n",
              "    <tr>\n",
              "      <th>freq</th>\n",
              "      <td>NaN</td>\n",
              "      <td>NaN</td>\n",
              "      <td>NaN</td>\n",
              "      <td>2</td>\n",
              "    </tr>\n",
              "    <tr>\n",
              "      <th>mean</th>\n",
              "      <td>14.208333</td>\n",
              "      <td>13.875000</td>\n",
              "      <td>9.833333</td>\n",
              "      <td>NaN</td>\n",
              "    </tr>\n",
              "    <tr>\n",
              "      <th>std</th>\n",
              "      <td>2.767164</td>\n",
              "      <td>2.413268</td>\n",
              "      <td>4.179677</td>\n",
              "      <td>NaN</td>\n",
              "    </tr>\n",
              "    <tr>\n",
              "      <th>min</th>\n",
              "      <td>9.000000</td>\n",
              "      <td>8.500000</td>\n",
              "      <td>5.000000</td>\n",
              "      <td>NaN</td>\n",
              "    </tr>\n",
              "    <tr>\n",
              "      <th>25%</th>\n",
              "      <td>12.375000</td>\n",
              "      <td>12.625000</td>\n",
              "      <td>6.875000</td>\n",
              "      <td>NaN</td>\n",
              "    </tr>\n",
              "    <tr>\n",
              "      <th>50%</th>\n",
              "      <td>15.250000</td>\n",
              "      <td>15.000000</td>\n",
              "      <td>9.500000</td>\n",
              "      <td>NaN</td>\n",
              "    </tr>\n",
              "    <tr>\n",
              "      <th>75%</th>\n",
              "      <td>16.000000</td>\n",
              "      <td>15.125000</td>\n",
              "      <td>11.625000</td>\n",
              "      <td>NaN</td>\n",
              "    </tr>\n",
              "    <tr>\n",
              "      <th>max</th>\n",
              "      <td>18.000000</td>\n",
              "      <td>17.000000</td>\n",
              "      <td>20.000000</td>\n",
              "      <td>NaN</td>\n",
              "    </tr>\n",
              "  </tbody>\n",
              "</table>\n",
              "</div>"
            ],
            "text/plain": [
              "             Math    Physics    English Sleep_Time\n",
              "count   12.000000  12.000000  12.000000         12\n",
              "unique        NaN        NaN        NaN          9\n",
              "top           NaN        NaN        NaN   20:00:00\n",
              "freq          NaN        NaN        NaN          2\n",
              "mean    14.208333  13.875000   9.833333        NaN\n",
              "std      2.767164   2.413268   4.179677        NaN\n",
              "min      9.000000   8.500000   5.000000        NaN\n",
              "25%     12.375000  12.625000   6.875000        NaN\n",
              "50%     15.250000  15.000000   9.500000        NaN\n",
              "75%     16.000000  15.125000  11.625000        NaN\n",
              "max     18.000000  17.000000  20.000000        NaN"
            ]
          },
          "execution_count": 8,
          "metadata": {},
          "output_type": "execute_result"
        }
      ]
    },
    {
      "cell_type": "markdown",
      "metadata": {
        "id": "bESbmICvJa11"
      },
      "source": [
        "Now let's plot the obtained marks to get deeper insight about the data."
      ]
    },
    {
      "cell_type": "code",
      "metadata": {
        "colab": {
          "base_uri": "https://localhost:8080/",
          "height": 338
        },
        "id": "TBIG69zrJifB",
        "outputId": "7c470bc5-3f54-443b-f343-a48ac8cb8a9b"
      },
      "source": [
        "import matplotlib.pyplot as plt\n",
        "plt.figure(figsize=(8, 5))\n",
        "\n",
        "plt.plot(new_data['Sleep_Time'].astype(str), new_data.Math, '*', label=\"Math\")\n",
        "plt.plot(new_data['Sleep_Time'].astype(str), new_data.Physics, '.', label=\"Physics\")\n",
        "plt.plot(new_data['Sleep_Time'].astype(str), new_data.English,  '+', label=\"English\")\n",
        "\n",
        "plt.legend()"
      ],
      "execution_count": null,
      "outputs": [
        {
          "data": {
            "text/plain": [
              "<matplotlib.legend.Legend at 0x7efe1e453e10>"
            ]
          },
          "execution_count": 9,
          "metadata": {},
          "output_type": "execute_result"
        },
        {
          "data": {
            "image/png": "[encoded data removed]",
            "text/plain": [
              "<Figure size 576x360 with 1 Axes>"
            ]
          },
          "metadata": {},
          "output_type": "display_data"
        }
      ]
    },
    {
      "cell_type": "markdown",
      "metadata": {
        "id": "eErKyXSJLOOt"
      },
      "source": [
        "Let's confirm the correlation among Variables"
      ]
    },
    {
      "cell_type": "code",
      "metadata": {
        "colab": {
          "base_uri": "https://localhost:8080/",
          "height": 143
        },
        "id": "EkVhFAtgLUMS",
        "outputId": "6e6b51ae-9b4e-468d-fe3e-fc1fee83ea6b"
      },
      "source": [
        "new_data.corr()"
      ],
      "execution_count": null,
      "outputs": [
        {
          "data": {
            "text/html": [
              "<div>\n",
              "<style scoped>\n",
              "    .dataframe tbody tr th:only-of-type {\n",
              "        vertical-align: middle;\n",
              "    }\n",
              "\n",
              "    .dataframe tbody tr th {\n",
              "        vertical-align: top;\n",
              "    }\n",
              "\n",
              "    .dataframe thead th {\n",
              "        text-align: right;\n",
              "    }\n",
              "</style>\n",
              "<table border=\"1\" class=\"dataframe\">\n",
              "  <thead>\n",
              "    <tr style=\"text-align: right;\">\n",
              "      <th></th>\n",
              "      <th>Math</th>\n",
              "      <th>Physics</th>\n",
              "      <th>English</th>\n",
              "    </tr>\n",
              "  </thead>\n",
              "  <tbody>\n",
              "    <tr>\n",
              "      <th>Math</th>\n",
              "      <td>1.000000</td>\n",
              "      <td>0.963999</td>\n",
              "      <td>0.431652</td>\n",
              "    </tr>\n",
              "    <tr>\n",
              "      <th>Physics</th>\n",
              "      <td>0.963999</td>\n",
              "      <td>1.000000</td>\n",
              "      <td>0.383043</td>\n",
              "    </tr>\n",
              "    <tr>\n",
              "      <th>English</th>\n",
              "      <td>0.431652</td>\n",
              "      <td>0.383043</td>\n",
              "      <td>1.000000</td>\n",
              "    </tr>\n",
              "  </tbody>\n",
              "</table>\n",
              "</div>"
            ],
            "text/plain": [
              "             Math   Physics   English\n",
              "Math     1.000000  0.963999  0.431652\n",
              "Physics  0.963999  1.000000  0.383043\n",
              "English  0.431652  0.383043  1.000000"
            ]
          },
          "execution_count": 10,
          "metadata": {},
          "output_type": "execute_result"
        }
      ]
    },
    {
      "cell_type": "code",
      "metadata": {
        "colab": {
          "base_uri": "https://localhost:8080/",
          "height": 283
        },
        "id": "deZifCYWQoyc",
        "outputId": "e12fa075-56c4-4d20-ec4c-6069bf080a73"
      },
      "source": [
        "import matplotlib.pyplot as plt\n",
        "\n",
        "plt.plot( new_data.Math,  label=\"Math\")\n",
        "plt.plot( new_data.Physics, label=\"Physics\")\n",
        "plt.plot( new_data.English,  label=\"English\")\n",
        "\n",
        "plt.legend()"
      ],
      "execution_count": null,
      "outputs": [
        {
          "data": {
            "text/plain": [
              "<matplotlib.legend.Legend at 0x7efe1e416f50>"
            ]
          },
          "execution_count": 11,
          "metadata": {},
          "output_type": "execute_result"
        },
        {
          "data": {
            "image/png": "[encoded data removed]",
            "text/plain": [
              "<Figure size 432x288 with 1 Axes>"
            ]
          },
          "metadata": {},
          "output_type": "display_data"
        }
      ]
    },
    {
      "cell_type": "markdown",
      "metadata": {
        "id": "aFK_fONlLt9u"
      },
      "source": [
        "does the data hold outliers?"
      ]
    },
    {
      "cell_type": "code",
      "metadata": {
        "colab": {
          "base_uri": "https://localhost:8080/",
          "height": 265
        },
        "id": "FdSWaRtMLzy8",
        "outputId": "6cc59b32-b3b2-44c2-960c-e5ba923292c7"
      },
      "source": [
        "_, bp = new_data.boxplot( return_type='both')"
      ],
      "execution_count": null,
      "outputs": [
        {
          "data": {
            "image/png": "[encoded data removed]",
            "text/plain": [
              "<Figure size 432x288 with 1 Axes>"
            ]
          },
          "metadata": {},
          "output_type": "display_data"
        }
      ]
    },
    {
      "cell_type": "code",
      "metadata": {
        "colab": {
          "base_uri": "https://localhost:8080/",
          "height": 112
        },
        "id": "SkePYDIMO5ge",
        "outputId": "df60a814-9d4f-40b4-cd1d-2890bf9fdd9b"
      },
      "source": [
        "#print outliers infos\n",
        "new_data.loc[(new_data['Physics'] == bp['fliers'][1].get_ydata()[0])|\n",
        "        (new_data['English'] == bp['fliers'][2].get_ydata()[0])]\n"
      ],
      "execution_count": null,
      "outputs": [
        {
          "data": {
            "text/html": [
              "<div>\n",
              "<style scoped>\n",
              "    .dataframe tbody tr th:only-of-type {\n",
              "        vertical-align: middle;\n",
              "    }\n",
              "\n",
              "    .dataframe tbody tr th {\n",
              "        vertical-align: top;\n",
              "    }\n",
              "\n",
              "    .dataframe thead th {\n",
              "        text-align: right;\n",
              "    }\n",
              "</style>\n",
              "<table border=\"1\" class=\"dataframe\">\n",
              "  <thead>\n",
              "    <tr style=\"text-align: right;\">\n",
              "      <th></th>\n",
              "      <th>Math</th>\n",
              "      <th>Physics</th>\n",
              "      <th>English</th>\n",
              "      <th>Sleep_Time</th>\n",
              "    </tr>\n",
              "  </thead>\n",
              "  <tbody>\n",
              "    <tr>\n",
              "      <th>5</th>\n",
              "      <td>9.0</td>\n",
              "      <td>8.5</td>\n",
              "      <td>6.5</td>\n",
              "      <td>17:00:00</td>\n",
              "    </tr>\n",
              "    <tr>\n",
              "      <th>6</th>\n",
              "      <td>15.0</td>\n",
              "      <td>14.5</td>\n",
              "      <td>20.0</td>\n",
              "      <td>09:30:00</td>\n",
              "    </tr>\n",
              "  </tbody>\n",
              "</table>\n",
              "</div>"
            ],
            "text/plain": [
              "   Math  Physics  English Sleep_Time\n",
              "5   9.0      8.5      6.5   17:00:00\n",
              "6  15.0     14.5     20.0   09:30:00"
            ]
          },
          "execution_count": 13,
          "metadata": {},
          "output_type": "execute_result"
        }
      ]
    },
    {
      "cell_type": "markdown",
      "metadata": {
        "id": "JEZIzD8fXh6B"
      },
      "source": [
        "#5.Introduction to data visualization in Python"
      ]
    },
    {
      "cell_type": "markdown",
      "metadata": {
        "id": "_a1vKi_fXutb"
      },
      "source": [
        "* Data visualization is the graphical representation of data in order to interactively and efficiently get or convey deeper insight of data.\n",
        "* visualizing data enable you to extract information, better understand the data, and make more effective decisions.\n",
        "* Data visualization is the graphical representation of data in order to interactively and efficiently convey insight.\n",
        "* Matplotlib is the most commonly used graphing tool in Python.\n",
        "* Seaborn is an add-on to Matplotlib that allows us to style our graphs more professionally and create sleeker graphics.\n"
      ]
    },
    {
      "cell_type": "markdown",
      "metadata": {
        "id": "j6DSoL3Kabvd"
      },
      "source": [
        "**Visualization with Matplotlib**<br>\n",
        "One of Matplotlib’s most important features is its ability to play well with many operating systems and graphics backends. The following code shows how to import and change the style of figures."
      ]
    },
    {
      "cell_type": "code",
      "metadata": {
        "id": "1UxPjoXXbJc7"
      },
      "source": [
        "#importing matplotlib\n",
        "import matplotlib.pyplot as plt\n",
        "#change style\n",
        "plt.style.use('classic')\n"
      ],
      "execution_count": null,
      "outputs": []
    },
    {
      "cell_type": "markdown",
      "metadata": {
        "id": "GXRD8F31bvpW"
      },
      "source": [
        "L'ets plot somthing usin matplotlib"
      ]
    },
    {
      "cell_type": "code",
      "metadata": {
        "colab": {
          "base_uri": "https://localhost:8080/",
          "height": 266
        },
        "id": "cFirLGw1cH8o",
        "outputId": "8b085bcf-239a-4cea-cb2e-8ff9738a2836"
      },
      "source": [
        "import numpy as np\n",
        "x = np.linspace(0, 10, 500)\n",
        "\n",
        "fig = plt.figure(figsize=(4, 3))\n",
        "plt.plot(x, np.sin(x), '-', label ='sin')\n",
        "plt.plot(x, np.cos(x), '--', label ='cos')\n",
        "plt.legend()"
      ],
      "execution_count": null,
      "outputs": [
        {
          "data": {
            "text/plain": [
              "<matplotlib.legend.Legend at 0x7efe1e1f3a90>"
            ]
          },
          "execution_count": 15,
          "metadata": {},
          "output_type": "execute_result"
        },
        {
          "data": {
            "image/png": "[encoded data removed]",
            "text/plain": [
              "<Figure size 320x240 with 1 Axes>"
            ]
          },
          "metadata": {},
          "output_type": "display_data"
        }
      ]
    },
    {
      "cell_type": "markdown",
      "metadata": {
        "id": "Fk7HcANFcjcQ"
      },
      "source": [
        "One nice feature of Matplotlib is the ability to save figures in a wide variety of formats."
      ]
    },
    {
      "cell_type": "code",
      "metadata": {
        "colab": {
          "base_uri": "https://localhost:8080/",
          "height": 317
        },
        "id": "SW7D7H1kckm8",
        "outputId": "a605cbee-3590-4997-b95f-e54b23043200"
      },
      "source": [
        "fig.savefig('my_figure.png')\n",
        "#display the image\n",
        "from IPython.display import Image\n",
        "Image('my_figure.png')"
      ],
      "execution_count": null,
      "outputs": [
        {
          "data": {
            "image/png": "[encoded data removed]",
            "text/plain": [
              "<IPython.core.display.Image object>"
            ]
          },
          "execution_count": 16,
          "metadata": {},
          "output_type": "execute_result"
        }
      ]
    },
    {
      "cell_type": "markdown",
      "metadata": {
        "id": "_cY8hSvMfH8Q"
      },
      "source": [
        "**Figure Legend**<br>\n",
        "To show a legend"
      ]
    },
    {
      "cell_type": "code",
      "metadata": {
        "colab": {
          "base_uri": "https://localhost:8080/",
          "height": 434
        },
        "id": "LkeR8rGZfHTH",
        "outputId": "5258f8ef-3b41-4939-c5f4-05d4d77c204a"
      },
      "source": [
        "import matplotlib.pyplot as plt\n",
        "plt.style.use('classic')\n",
        "\n",
        "fig, ax = plt.subplots()\n",
        "ax.plot(x, np.sin(x), '-b', label='Sine')\n",
        "ax.plot(x, np.cos(x), '--r', label='Cosine')\n",
        "ax.axis('equal')\n",
        "leg = ax.legend();"
      ],
      "execution_count": null,
      "outputs": [
        {
          "data": {
            "image/png": "[encoded data removed]",
            "text/plain": [
              "<Figure size 640x480 with 1 Axes>"
            ]
          },
          "metadata": {},
          "output_type": "display_data"
        }
      ]
    },
    {
      "cell_type": "markdown",
      "metadata": {
        "id": "96gonwbSfyio"
      },
      "source": [
        "specify the location and turn off the frame:"
      ]
    },
    {
      "cell_type": "code",
      "metadata": {
        "colab": {
          "base_uri": "https://localhost:8080/",
          "height": 434
        },
        "id": "Y_h6Hbv9f0im",
        "outputId": "5152a5c5-7d72-4475-907d-3b494e166df2"
      },
      "source": [
        "ax.legend(loc='upper left', frameon=False)\n",
        "fig"
      ],
      "execution_count": null,
      "outputs": [
        {
          "data": {
            "image/png": "[encoded data removed]",
            "text/plain": [
              "<Figure size 640x480 with 1 Axes>"
            ]
          },
          "execution_count": 18,
          "metadata": {},
          "output_type": "execute_result"
        }
      ]
    },
    {
      "cell_type": "markdown",
      "metadata": {
        "id": "FH4lwizzhq9n"
      },
      "source": [
        "``ncol`` command specifies the number of columns in the legend"
      ]
    },
    {
      "cell_type": "code",
      "metadata": {
        "colab": {
          "base_uri": "https://localhost:8080/",
          "height": 434
        },
        "id": "Jd1SyrgAhrjt",
        "outputId": "94f323bf-5f49-4472-9c77-18dbc1d8258b"
      },
      "source": [
        "ax.legend(frameon=False, loc='lower center', ncol=2)\n",
        "fig"
      ],
      "execution_count": null,
      "outputs": [
        {
          "data": {
            "image/png": "[encoded data removed]",
            "text/plain": [
              "<Figure size 640x480 with 1 Axes>"
            ]
          },
          "execution_count": 19,
          "metadata": {},
          "output_type": "execute_result"
        }
      ]
    },
    {
      "cell_type": "markdown",
      "metadata": {
        "id": "c44CLG8zh-RL"
      },
      "source": [
        ""
      ]
    },
    {
      "cell_type": "markdown",
      "metadata": {
        "id": "AAW3ux4i15WJ"
      },
      "source": [
        "# 6.Univariate data and its visualization: chart types and practical"
      ]
    },
    {
      "cell_type": "markdown",
      "metadata": {
        "id": "QTX9ysvQ2ISC"
      },
      "source": [
        "*   Univariate data consists of observations on only a single characteristic or attribute(e.g., salary, student's arival time, etc).\n",
        "*   Some univariate data consists of numbers (wight, height, etc), whereas some others not (eyes color, taste of food, etc).\n",
        "*   Univariate analysis separately explores each variable in data while ignoring correlation to any other variable.\n",
        "\n",
        "**Example** : <br>\n",
        "Let's supose that we have the folowing weather trace recorded in ouargla.\n",
        "\n"
      ]
    },
    {
      "cell_type": "code",
      "metadata": {
        "colab": {
          "base_uri": "https://localhost:8080/"
        },
        "id": "WPYqlZfE21Kh",
        "outputId": "0295ceee-259e-4f61-ddac-986bc3c04fe9"
      },
      "source": [
        "import pandas as pd\n",
        "import matplotlib.pyplot as plt\n",
        "\n",
        "weather_ogx = pd.Series(data={\"Weather\": ('sunny', 'sunny', 'windy', 'windy', 'sunny', 'sunny', 'sunny', \n",
        "           'cloudy', 'cloudy', 'windy', 'sunny','sunny', 'sunny', 'windy',\n",
        "           'sunny','sunny', 'sunny', 'windy', 'windy', 'sunny','sunny')})\n",
        "print(weather_ogx)"
      ],
      "execution_count": null,
      "outputs": [
        {
          "name": "stdout",
          "output_type": "stream",
          "text": [
            "Weather    (sunny, sunny, windy, windy, sunny, sunny, sun...\n",
            "dtype: object\n"
          ]
        }
      ]
    },
    {
      "cell_type": "markdown",
      "metadata": {
        "id": "Z8nZrqam-27u"
      },
      "source": [
        "* Raw data is difficult to grasp, especially with large number of cases or records.\n",
        "* Univariate descriptive statistics can summarize large quantities of numerical data and reveal patterns in the raw data."
      ]
    },
    {
      "cell_type": "code",
      "metadata": {
        "colab": {
          "base_uri": "https://localhost:8080/",
          "height": 407
        },
        "id": "U0iV-xIc_wet",
        "outputId": "8ec2b797-fd8b-4609-a5da-6e7ca3ccbf3c"
      },
      "source": [
        "fig = plt.figure(figsize=(10, 3))\n",
        "\n",
        "df = weather_ogx.groupby('Weather').size()\n",
        "print(df)\n",
        "fig.add_subplot(1,2,1)\n",
        "df.plot.pie()\n",
        "\n",
        "fig.add_subplot(1,2,2)\n",
        "df.plot.bar()"
      ],
      "execution_count": null,
      "outputs": [
        {
          "name": "stdout",
          "output_type": "stream",
          "text": [
            "Weather\n",
            "cloudy     2\n",
            "sunny     13\n",
            "windy      6\n",
            "dtype: int64\n"
          ]
        },
        {
          "data": {
            "text/plain": [
              "<matplotlib.axes._subplots.AxesSubplot at 0x7efe1e104b90>"
            ]
          },
          "execution_count": 21,
          "metadata": {},
          "output_type": "execute_result"
        },
        {
          "data": {
            "image/png": "[encoded data removed]",
            "text/plain": [
              "<Figure size 800x240 with 2 Axes>"
            ]
          },
          "metadata": {},
          "output_type": "display_data"
        }
      ]
    },
    {
      "cell_type": "markdown",
      "metadata": {
        "id": "8b_xPR6wENba"
      },
      "source": [
        "* From the above pie and bar chart, one can easely deduce that ouargla is mostly sunny or windy, and rarely cloudy.\n",
        "* Pie chart is harder to read than Bars but it is more usfull with large number of categories<br>\n",
        "* The frequances are calculated by counting the appearance of each value. As instance, the frequance of cloudy equals to 2."
      ]
    },
    {
      "cell_type": "markdown",
      "metadata": {
        "id": "1MQwhwgRHBiK"
      },
      "source": [
        "* In most cases of real world, varibles have continues values which makes Pie or Bar charts not suitable to represent them.<br>\n",
        "* One solution that may solve the problem is by grouping data into distinct categories as the following code shows:"
      ]
    },
    {
      "cell_type": "code",
      "metadata": {
        "colab": {
          "base_uri": "https://localhost:8080/",
          "height": 508
        },
        "id": "zA325y23H5jv",
        "outputId": "20a7f423-15c8-42fb-9f1d-09b605f5eeed"
      },
      "source": [
        "import numpy as np\n",
        "import pandas as pd\n",
        "plt.style.use('bmh')\n",
        "\n",
        "marks = np.array((10, 8, 7, 12.5, 17, 3, 6, 10, 14, 4, 11, 12, 4.5, 9, 19))\n",
        "\n",
        "rate = np.array(np.zeros(marks.size), dtype=\"str\")\n",
        "rate[marks<10] = 'bad marks'\n",
        "rate[(marks>=10) & (marks<16)] = 'Good mark'\n",
        "rate[marks>=16] = 'Excelent mark'\n",
        "print ('marks: ', marks)\n",
        "print ('rates: ', rate)\n",
        "\n",
        "# prepare and group rates and then plot\n",
        "ds_Rate = pd.DataFrame( data={'Rate': rate})\n",
        "data = ds_Rate.groupby(['Rate']).size();\n",
        "plt.pie(data, labels= data.index, autopct=\"%.1f\");\n"
      ],
      "execution_count": null,
      "outputs": [
        {
          "name": "stdout",
          "output_type": "stream",
          "text": [
            "marks:  [10.   8.   7.  12.5 17.   3.   6.  10.  14.   4.  11.  12.   4.5  9.\n",
            " 19. ]\n",
            "rates:  ['Good mark' 'bad marks' 'bad marks' 'Good mark' 'Excelent mark'\n",
            " 'bad marks' 'bad marks' 'Good mark' 'Good mark' 'bad marks' 'Good mark'\n",
            " 'Good mark' 'bad marks' 'bad marks' 'Excelent mark']\n"
          ]
        },
        {
          "data": {
            "image/png": "[encoded data removed]",
            "text/plain": [
              "<Figure size 640x480 with 1 Axes>"
            ]
          },
          "metadata": {},
          "output_type": "display_data"
        }
      ]
    },
    {
      "cell_type": "markdown",
      "metadata": {
        "id": "_V1JCHumQoA8"
      },
      "source": [
        "Somtimes, is too hard to manualy devide variable's ranges. Instead, Histogram plot can be used to automatically devide into ranges and visualize values of a variable."
      ]
    },
    {
      "cell_type": "code",
      "metadata": {
        "colab": {
          "base_uri": "https://localhost:8080/",
          "height": 495
        },
        "id": "hjY_mZGxRRgJ",
        "outputId": "7d7dfb79-60f9-4691-b670-4e1b1c866c5e"
      },
      "source": [
        "plt.hist( marks, bins = 4)"
      ],
      "execution_count": null,
      "outputs": [
        {
          "data": {
            "text/plain": [
              "(array([4., 5., 4., 2.]),\n",
              " array([ 3.,  7., 11., 15., 19.]),\n",
              " <a list of 4 Patch objects>)"
            ]
          },
          "execution_count": 23,
          "metadata": {},
          "output_type": "execute_result"
        },
        {
          "data": {
            "image/png": "[encoded data removed]",
            "text/plain": [
              "<Figure size 640x480 with 1 Axes>"
            ]
          },
          "metadata": {},
          "output_type": "display_data"
        }
      ]
    },
    {
      "cell_type": "markdown",
      "metadata": {
        "id": "EzZTUQNkVTzd"
      },
      "source": [
        "Somtimes, one may not want to group data but to plot a distribution that fits the data. In such case, density plot, a smoother version of a histogram, is used."
      ]
    },
    {
      "cell_type": "code",
      "metadata": {
        "colab": {
          "base_uri": "https://localhost:8080/",
          "height": 458
        },
        "id": "LdQJfHz6Vi8L",
        "outputId": "f142db48-2af9-4f1f-bc4f-ae08a0a82ea2"
      },
      "source": [
        "pd.Series(marks).plot.density()"
      ],
      "execution_count": null,
      "outputs": [
        {
          "data": {
            "text/plain": [
              "<matplotlib.axes._subplots.AxesSubplot at 0x7efe1dfcac90>"
            ]
          },
          "execution_count": 24,
          "metadata": {},
          "output_type": "execute_result"
        },
        {
          "data": {
            "image/png": "[encoded data removed]",
            "text/plain": [
              "<Figure size 640x480 with 1 Axes>"
            ]
          },
          "metadata": {},
          "output_type": "display_data"
        }
      ]
    },
    {
      "cell_type": "markdown",
      "metadata": {
        "id": "LOTgR0ajX3oX"
      },
      "source": [
        "* A box-plot is a very useful and standardized way of displaying the distribution of data based on a five-number summary (minimum, first quartile, second quartile(median), third quartile, maximum). \n",
        "* It helps in understanding these parameters of the distribution of data and is extremely helpful in detecting outliers.\n",
        "* The Violin plot is similar to a box plot, with the addition of kernel density plot. It shows the distribution of quantitative data"
      ]
    },
    {
      "cell_type": "code",
      "metadata": {
        "colab": {
          "base_uri": "https://localhost:8080/",
          "height": 248
        },
        "id": "1ureQbM4YCOp",
        "outputId": "e9d4d2cd-d4d6-40fd-a2c8-fe8131b044cd"
      },
      "source": [
        "marks[0] = 30\n",
        "marks[7] = 35\n",
        "\n",
        "fig = plt.figure(figsize=(10, 3))\n",
        "\n",
        "fig.add_subplot(1,2,1)\n",
        "plt.boxplot(marks, meanline = True, showfliers = True);\n",
        "fig.add_subplot(1,2,2)\n",
        "plt.violinplot(marks, showmeans= True, showmedians=True);"
      ],
      "execution_count": null,
      "outputs": [
        {
          "data": {
            "image/png": "[encoded data removed]",
            "text/plain": [
              "<Figure size 800x240 with 2 Axes>"
            ]
          },
          "metadata": {},
          "output_type": "display_data"
        }
      ]
    },
    {
      "cell_type": "markdown",
      "metadata": {
        "id": "RJunouRDI5TN"
      },
      "source": [
        "# 7.Bivariate and Multivariate data and its visualization"
      ]
    },
    {
      "cell_type": "markdown",
      "metadata": {
        "id": "uY4IBxZqI-MO"
      },
      "source": [
        "* Bivariate analysis is a simple (two variable) special case of multivariate analysis (3 or more variables).\n",
        "* It involves the analysis of two variables (often denoted as X, Y), for the purpose of determining the empirical relationship between them.\n",
        "* Bivariate analysis helps determining to what extent it becomes easier to know and predict a value for one variable if we know the other's.\n"
      ]
    },
    {
      "cell_type": "markdown",
      "metadata": {
        "id": "2w2_9tm_QUv9"
      },
      "source": [
        "**Example** <br>\n",
        "To be practical, we will download the following multivariate student dataset. More details about the dataset cab be found in the link https://archive.ics.uci.edu/ml/datasets/student%2Bperformance#"
      ]
    },
    {
      "cell_type": "code",
      "metadata": {
        "colab": {
          "base_uri": "https://localhost:8080/"
        },
        "id": "KYQb48EPLCr4",
        "outputId": "f1e983fb-7fcf-4420-ce92-aecd22906f8b"
      },
      "source": [
        "!wget \"https://archive.ics.uci.edu/ml/machine-learning-databases/00320/student.zip\"\n",
        "!unzip student.zip"
      ],
      "execution_count": null,
      "outputs": [
        {
          "name": "stdout",
          "output_type": "stream",
          "text": [
            "--2021-10-26 08:42:49--  https://archive.ics.uci.edu/ml/machine-learning-databases/00320/student.zip\n",
            "Resolving archive.ics.uci.edu (archive.ics.uci.edu)... 128.195.10.252\n",
            "Connecting to archive.ics.uci.edu (archive.ics.uci.edu)|128.195.10.252|:443... connected.\n",
            "HTTP request sent, awaiting response... 200 OK\n",
            "Length: 20478 (20K) [application/x-httpd-php]\n",
            "Saving to: ‘student.zip’\n",
            "\n",
            "student.zip         100%[===================>]  20.00K  --.-KB/s    in 0.06s   \n",
            "\n",
            "2021-10-26 08:42:50 (315 KB/s) - ‘student.zip’ saved [20478/20478]\n",
            "\n",
            "Archive:  student.zip\n",
            "  inflating: student-mat.csv         \n",
            "  inflating: student-por.csv         \n",
            "  inflating: student-merge.R         \n",
            "  inflating: student.txt             \n"
          ]
        }
      ]
    },
    {
      "cell_type": "markdown",
      "metadata": {
        "id": "jtq4cwoYQos9"
      },
      "source": [
        "Now we load the dataset and show the few first rows."
      ]
    },
    {
      "cell_type": "code",
      "metadata": {
        "colab": {
          "base_uri": "https://localhost:8080/",
          "height": 225
        },
        "id": "5RVhHo1ILoR5",
        "outputId": "5b758a2e-2010-4e74-d712-1f573938d784"
      },
      "source": [
        "import pandas as pd\n",
        "multivariate_data = pd.read_csv(\"student-mat.csv\", sep=\";\")\n",
        "multivariate_data.head()"
      ],
      "execution_count": null,
      "outputs": [
        {
          "data": {
            "text/html": [
              "<div>\n",
              "<style scoped>\n",
              "    .dataframe tbody tr th:only-of-type {\n",
              "        vertical-align: middle;\n",
              "    }\n",
              "\n",
              "    .dataframe tbody tr th {\n",
              "        vertical-align: top;\n",
              "    }\n",
              "\n",
              "    .dataframe thead th {\n",
              "        text-align: right;\n",
              "    }\n",
              "</style>\n",
              "<table border=\"1\" class=\"dataframe\">\n",
              "  <thead>\n",
              "    <tr style=\"text-align: right;\">\n",
              "      <th></th>\n",
              "      <th>school</th>\n",
              "      <th>sex</th>\n",
              "      <th>age</th>\n",
              "      <th>address</th>\n",
              "      <th>famsize</th>\n",
              "      <th>Pstatus</th>\n",
              "      <th>Medu</th>\n",
              "      <th>Fedu</th>\n",
              "      <th>Mjob</th>\n",
              "      <th>Fjob</th>\n",
              "      <th>reason</th>\n",
              "      <th>guardian</th>\n",
              "      <th>traveltime</th>\n",
              "      <th>studytime</th>\n",
              "      <th>failures</th>\n",
              "      <th>schoolsup</th>\n",
              "      <th>famsup</th>\n",
              "      <th>paid</th>\n",
              "      <th>activities</th>\n",
              "      <th>nursery</th>\n",
              "      <th>higher</th>\n",
              "      <th>internet</th>\n",
              "      <th>romantic</th>\n",
              "      <th>famrel</th>\n",
              "      <th>freetime</th>\n",
              "      <th>goout</th>\n",
              "      <th>Dalc</th>\n",
              "      <th>Walc</th>\n",
              "      <th>health</th>\n",
              "      <th>absences</th>\n",
              "      <th>G1</th>\n",
              "      <th>G2</th>\n",
              "      <th>G3</th>\n",
              "    </tr>\n",
              "  </thead>\n",
              "  <tbody>\n",
              "    <tr>\n",
              "      <th>0</th>\n",
              "      <td>GP</td>\n",
              "      <td>F</td>\n",
              "      <td>18</td>\n",
              "      <td>U</td>\n",
              "      <td>GT3</td>\n",
              "      <td>A</td>\n",
              "      <td>4</td>\n",
              "      <td>4</td>\n",
              "      <td>at_home</td>\n",
              "      <td>teacher</td>\n",
              "      <td>course</td>\n",
              "      <td>mother</td>\n",
              "      <td>2</td>\n",
              "      <td>2</td>\n",
              "      <td>0</td>\n",
              "      <td>yes</td>\n",
              "      <td>no</td>\n",
              "      <td>no</td>\n",
              "      <td>no</td>\n",
              "      <td>yes</td>\n",
              "      <td>yes</td>\n",
              "      <td>no</td>\n",
              "      <td>no</td>\n",
              "      <td>4</td>\n",
              "      <td>3</td>\n",
              "      <td>4</td>\n",
              "      <td>1</td>\n",
              "      <td>1</td>\n",
              "      <td>3</td>\n",
              "      <td>6</td>\n",
              "      <td>5</td>\n",
              "      <td>6</td>\n",
              "      <td>6</td>\n",
              "    </tr>\n",
              "    <tr>\n",
              "      <th>1</th>\n",
              "      <td>GP</td>\n",
              "      <td>F</td>\n",
              "      <td>17</td>\n",
              "      <td>U</td>\n",
              "      <td>GT3</td>\n",
              "      <td>T</td>\n",
              "      <td>1</td>\n",
              "      <td>1</td>\n",
              "      <td>at_home</td>\n",
              "      <td>other</td>\n",
              "      <td>course</td>\n",
              "      <td>father</td>\n",
              "      <td>1</td>\n",
              "      <td>2</td>\n",
              "      <td>0</td>\n",
              "      <td>no</td>\n",
              "      <td>yes</td>\n",
              "      <td>no</td>\n",
              "      <td>no</td>\n",
              "      <td>no</td>\n",
              "      <td>yes</td>\n",
              "      <td>yes</td>\n",
              "      <td>no</td>\n",
              "      <td>5</td>\n",
              "      <td>3</td>\n",
              "      <td>3</td>\n",
              "      <td>1</td>\n",
              "      <td>1</td>\n",
              "      <td>3</td>\n",
              "      <td>4</td>\n",
              "      <td>5</td>\n",
              "      <td>5</td>\n",
              "      <td>6</td>\n",
              "    </tr>\n",
              "    <tr>\n",
              "      <th>2</th>\n",
              "      <td>GP</td>\n",
              "      <td>F</td>\n",
              "      <td>15</td>\n",
              "      <td>U</td>\n",
              "      <td>LE3</td>\n",
              "      <td>T</td>\n",
              "      <td>1</td>\n",
              "      <td>1</td>\n",
              "      <td>at_home</td>\n",
              "      <td>other</td>\n",
              "      <td>other</td>\n",
              "      <td>mother</td>\n",
              "      <td>1</td>\n",
              "      <td>2</td>\n",
              "      <td>3</td>\n",
              "      <td>yes</td>\n",
              "      <td>no</td>\n",
              "      <td>yes</td>\n",
              "      <td>no</td>\n",
              "      <td>yes</td>\n",
              "      <td>yes</td>\n",
              "      <td>yes</td>\n",
              "      <td>no</td>\n",
              "      <td>4</td>\n",
              "      <td>3</td>\n",
              "      <td>2</td>\n",
              "      <td>2</td>\n",
              "      <td>3</td>\n",
              "      <td>3</td>\n",
              "      <td>10</td>\n",
              "      <td>7</td>\n",
              "      <td>8</td>\n",
              "      <td>10</td>\n",
              "    </tr>\n",
              "    <tr>\n",
              "      <th>3</th>\n",
              "      <td>GP</td>\n",
              "      <td>F</td>\n",
              "      <td>15</td>\n",
              "      <td>U</td>\n",
              "      <td>GT3</td>\n",
              "      <td>T</td>\n",
              "      <td>4</td>\n",
              "      <td>2</td>\n",
              "      <td>health</td>\n",
              "      <td>services</td>\n",
              "      <td>home</td>\n",
              "      <td>mother</td>\n",
              "      <td>1</td>\n",
              "      <td>3</td>\n",
              "      <td>0</td>\n",
              "      <td>no</td>\n",
              "      <td>yes</td>\n",
              "      <td>yes</td>\n",
              "      <td>yes</td>\n",
              "      <td>yes</td>\n",
              "      <td>yes</td>\n",
              "      <td>yes</td>\n",
              "      <td>yes</td>\n",
              "      <td>3</td>\n",
              "      <td>2</td>\n",
              "      <td>2</td>\n",
              "      <td>1</td>\n",
              "      <td>1</td>\n",
              "      <td>5</td>\n",
              "      <td>2</td>\n",
              "      <td>15</td>\n",
              "      <td>14</td>\n",
              "      <td>15</td>\n",
              "    </tr>\n",
              "    <tr>\n",
              "      <th>4</th>\n",
              "      <td>GP</td>\n",
              "      <td>F</td>\n",
              "      <td>16</td>\n",
              "      <td>U</td>\n",
              "      <td>GT3</td>\n",
              "      <td>T</td>\n",
              "      <td>3</td>\n",
              "      <td>3</td>\n",
              "      <td>other</td>\n",
              "      <td>other</td>\n",
              "      <td>home</td>\n",
              "      <td>father</td>\n",
              "      <td>1</td>\n",
              "      <td>2</td>\n",
              "      <td>0</td>\n",
              "      <td>no</td>\n",
              "      <td>yes</td>\n",
              "      <td>yes</td>\n",
              "      <td>no</td>\n",
              "      <td>yes</td>\n",
              "      <td>yes</td>\n",
              "      <td>no</td>\n",
              "      <td>no</td>\n",
              "      <td>4</td>\n",
              "      <td>3</td>\n",
              "      <td>2</td>\n",
              "      <td>1</td>\n",
              "      <td>2</td>\n",
              "      <td>5</td>\n",
              "      <td>4</td>\n",
              "      <td>6</td>\n",
              "      <td>10</td>\n",
              "      <td>10</td>\n",
              "    </tr>\n",
              "  </tbody>\n",
              "</table>\n",
              "</div>"
            ],
            "text/plain": [
              "  school sex  age address famsize Pstatus  ...  Walc  health absences  G1  G2  G3\n",
              "0     GP   F   18       U     GT3       A  ...     1       3        6   5   6   6\n",
              "1     GP   F   17       U     GT3       T  ...     1       3        4   5   5   6\n",
              "2     GP   F   15       U     LE3       T  ...     3       3       10   7   8  10\n",
              "3     GP   F   15       U     GT3       T  ...     1       5        2  15  14  15\n",
              "4     GP   F   16       U     GT3       T  ...     2       5        4   6  10  10\n",
              "\n",
              "[5 rows x 33 columns]"
            ]
          },
          "execution_count": 5,
          "metadata": {},
          "output_type": "execute_result"
        }
      ]
    },
    {
      "cell_type": "markdown",
      "metadata": {
        "id": "VXafB0U4Q4zT"
      },
      "source": [
        "The first quastion is: is there a relation betwwen Grade 1 and Grade 2?<br>\n",
        "To answer this question we took a Bivariate data [G1, G2]"
      ]
    },
    {
      "cell_type": "code",
      "metadata": {
        "colab": {
          "base_uri": "https://localhost:8080/"
        },
        "id": "VcuIYTEZRRYW",
        "outputId": "d1e95490-4d8a-41aa-c480-8ea9d904b0d8"
      },
      "source": [
        "bivariate_data = multivariate_data[['G1', 'G2']]\n",
        "bivariate_data.info"
      ],
      "execution_count": null,
      "outputs": [
        {
          "data": {
            "text/plain": [
              "<bound method DataFrame.info of      G1  G2\n",
              "0     5   6\n",
              "1     5   5\n",
              "2     7   8\n",
              "3    15  14\n",
              "4     6  10\n",
              "..   ..  ..\n",
              "390   9   9\n",
              "391  14  16\n",
              "392  10   8\n",
              "393  11  12\n",
              "394   8   9\n",
              "\n",
              "[395 rows x 2 columns]>"
            ]
          },
          "execution_count": 7,
          "metadata": {},
          "output_type": "execute_result"
        }
      ]
    },
    {
      "cell_type": "markdown",
      "metadata": {
        "id": "_zXvp3CQRumz"
      },
      "source": [
        "* A scatter plot represents individual pieces of data using dots. \n",
        "* These plots make it easier to see if two variables are related to each other\n",
        "* The resulting pattern indicates the type (linear or non-linear) and strength of the relationship between two variables"
      ]
    },
    {
      "cell_type": "code",
      "metadata": {
        "colab": {
          "base_uri": "https://localhost:8080/",
          "height": 479
        },
        "id": "GHuQnRMHR_zJ",
        "outputId": "1465c0a5-6090-4dfe-d500-fa5a8adc2d54"
      },
      "source": [
        "import matplotlib.pyplot as plt\n",
        "bivariate_data.plot.scatter(x='G1', y='G2')"
      ],
      "execution_count": null,
      "outputs": [
        {
          "data": {
            "text/plain": [
              "<matplotlib.axes._subplots.AxesSubplot at 0x7efe1e069b50>"
            ]
          },
          "execution_count": 29,
          "metadata": {},
          "output_type": "execute_result"
        },
        {
          "data": {
            "image/png": "[encoded data removed]",
            "text/plain": [
              "<Figure size 640x480 with 1 Axes>"
            ]
          },
          "metadata": {},
          "output_type": "display_data"
        }
      ]
    },
    {
      "cell_type": "markdown",
      "metadata": {
        "id": "BjS75PS8QuTp"
      },
      "source": [
        "* Linear Correlation represents the strength of a linear relationship between two numerical variables. \n",
        "* If there is no correlation between the two variables, there is no tendency to change along with the values of the second quantity.<br>\n",
        "<img src=\"https://cdn.analyticsvidhya.com/wp-content/uploads/2021/04/image13.png\"></img>"
      ]
    },
    {
      "cell_type": "code",
      "metadata": {
        "colab": {
          "base_uri": "https://localhost:8080/",
          "height": 171
        },
        "id": "y184pO2IRVOq",
        "outputId": "ab21ab00-ec40-469a-bea6-ff80b1e52d71"
      },
      "source": [
        "print(bivariate_data.corr())"
      ],
      "execution_count": null,
      "outputs": [
        {
          "ename": "NameError",
          "evalue": "ignored",
          "output_type": "error",
          "traceback": [
            "\u001b[0;31m---------------------------------------------------------------------------\u001b[0m",
            "\u001b[0;31mNameError\u001b[0m                                 Traceback (most recent call last)",
            "\u001b[0;32m<ipython-input-6-37df49c69e7a>\u001b[0m in \u001b[0;36m<module>\u001b[0;34m()\u001b[0m\n\u001b[0;32m----> 1\u001b[0;31m \u001b[0mprint\u001b[0m\u001b[0;34m(\u001b[0m\u001b[0mbivariate_data\u001b[0m\u001b[0;34m.\u001b[0m\u001b[0mcorr\u001b[0m\u001b[0;34m(\u001b[0m\u001b[0;34m)\u001b[0m\u001b[0;34m)\u001b[0m\u001b[0;34m\u001b[0m\u001b[0;34m\u001b[0m\u001b[0m\n\u001b[0m",
            "\u001b[0;31mNameError\u001b[0m: name 'bivariate_data' is not defined"
          ]
        }
      ]
    },
    {
      "cell_type": "markdown",
      "metadata": {
        "id": "xZ6TzRn7-1Cr"
      },
      "source": [
        "#8.Bivariate data stats: Correlation, regression and power of geometric interpretation"
      ]
    },
    {
      "cell_type": "markdown",
      "metadata": {
        "id": "cKPdiBplLjSE"
      },
      "source": [
        "* **Bivariate analysis** means the analysis of **bivariate data**. \n",
        "* It is one of the simplest forms of statistical analysis.\n",
        "* in **bivariate data**, variables are related, in contrast to **two sample data analysis.**\n",
        "  * Two sample data analysis: **x** = True, False, False, True; **y** = 12, 5, 10\n",
        "  * Bivariate analysis: (x, y) = (True, 5), (False, 12), (False, 4)\n",
        "* **Bivariate analysis** aims to find out if there is a **relationship** between two sets of values (i.e., variables X and Y).\n",
        "* Bivariate data has many practical uses in real life. e.g., it is pretty useful to be able to predict when a natural event might occur."
      ]
    },
    {
      "cell_type": "code",
      "metadata": {
        "colab": {
          "base_uri": "https://localhost:8080/",
          "height": 204
        },
        "id": "9Kb0GsrDLy0Y",
        "outputId": "14a894d5-1740-4e18-a079-a589a878c3cc"
      },
      "source": [
        "import pandas as pd\n",
        "data = pd.read_table(\"https://gist.githubusercontent.com/curran/4b59d1046d9e66f2787780ad51a1cd87/raw/9ec906b78a98cf300947a37b56cfe70d01183200/data.tsv\")\n",
        "data.head()"
      ],
      "execution_count": null,
      "outputs": [
        {
          "data": {
            "text/html": [
              "<div>\n",
              "<style scoped>\n",
              "    .dataframe tbody tr th:only-of-type {\n",
              "        vertical-align: middle;\n",
              "    }\n",
              "\n",
              "    .dataframe tbody tr th {\n",
              "        vertical-align: top;\n",
              "    }\n",
              "\n",
              "    .dataframe thead th {\n",
              "        text-align: right;\n",
              "    }\n",
              "</style>\n",
              "<table border=\"1\" class=\"dataframe\">\n",
              "  <thead>\n",
              "    <tr style=\"text-align: right;\">\n",
              "      <th></th>\n",
              "      <th>eruptions</th>\n",
              "      <th>waiting</th>\n",
              "    </tr>\n",
              "  </thead>\n",
              "  <tbody>\n",
              "    <tr>\n",
              "      <th>0</th>\n",
              "      <td>3.600</td>\n",
              "      <td>79</td>\n",
              "    </tr>\n",
              "    <tr>\n",
              "      <th>1</th>\n",
              "      <td>1.800</td>\n",
              "      <td>54</td>\n",
              "    </tr>\n",
              "    <tr>\n",
              "      <th>2</th>\n",
              "      <td>3.333</td>\n",
              "      <td>74</td>\n",
              "    </tr>\n",
              "    <tr>\n",
              "      <th>3</th>\n",
              "      <td>2.283</td>\n",
              "      <td>62</td>\n",
              "    </tr>\n",
              "    <tr>\n",
              "      <th>4</th>\n",
              "      <td>4.533</td>\n",
              "      <td>85</td>\n",
              "    </tr>\n",
              "  </tbody>\n",
              "</table>\n",
              "</div>"
            ],
            "text/plain": [
              "   eruptions  waiting\n",
              "0      3.600       79\n",
              "1      1.800       54\n",
              "2      3.333       74\n",
              "3      2.283       62\n",
              "4      4.533       85"
            ]
          },
          "execution_count": 6,
          "metadata": {},
          "output_type": "execute_result"
        }
      ]
    },
    {
      "cell_type": "code",
      "metadata": {
        "colab": {
          "base_uri": "https://localhost:8080/",
          "height": 296
        },
        "id": "4FSHXYMDP30e",
        "outputId": "f57ed14b-e539-4ae4-d24e-9d83935a66b8"
      },
      "source": [
        "data.plot.scatter(x='waiting', y='eruptions')"
      ],
      "execution_count": null,
      "outputs": [
        {
          "data": {
            "text/plain": [
              "<matplotlib.axes._subplots.AxesSubplot at 0x7fb969b88d50>"
            ]
          },
          "execution_count": 11,
          "metadata": {},
          "output_type": "execute_result"
        },
        {
          "data": {
            "image/png": "[encoded data removed]",
            "text/plain": [
              "<Figure size 432x288 with 1 Axes>"
            ]
          },
          "metadata": {},
          "output_type": "display_data"
        }
      ]
    },
    {
      "cell_type": "markdown",
      "metadata": {
        "id": "tGfI1fOOQQK_"
      },
      "source": [
        "This scatterplot suggests there are generally two “types” of eruptions: *short-wait-short-duration*, and *long-wait-long-duration* eruptions."
      ]
    },
    {
      "cell_type": "markdown",
      "metadata": {
        "id": "1fqIIQMTTOGT"
      },
      "source": [
        "* Regression analysis is a catch all term for a wide variety of tools that you can use to determine how your data points might be related.\n",
        "* In the plot below, the points look like they could follow an exponential curve.\n",
        "* Regression analysis can give you the equation for that curve or line. \n",
        "* It can also give you the correlation coefficient."
      ]
    },
    {
      "cell_type": "code",
      "metadata": {
        "colab": {
          "base_uri": "https://localhost:8080/",
          "height": 296
        },
        "id": "PaVaeDTtTqBB",
        "outputId": "ca0b8ce4-d59a-4eba-9f3f-66208bf7f1e2"
      },
      "source": [
        "pd.DataFrame([[1,2], [2,4], [3,12], [4,16], [5,32], [6,64]], columns=['a', 'b']).plot.scatter(x='a', y='b')"
      ],
      "execution_count": null,
      "outputs": [
        {
          "data": {
            "text/plain": [
              "<matplotlib.axes._subplots.AxesSubplot at 0x7fb969773290>"
            ]
          },
          "execution_count": 23,
          "metadata": {},
          "output_type": "execute_result"
        },
        {
          "data": {
            "image/png": "[encoded data removed]",
            "text/plain": [
              "<Figure size 432x288 with 1 Axes>"
            ]
          },
          "metadata": {},
          "output_type": "display_data"
        }
      ]
    },
    {
      "cell_type": "markdown",
      "metadata": {
        "id": "Msr9QUCdVcl0"
      },
      "source": [
        "* Regression analysis provide an equation for a graph so that you can make predictions about your data. \n",
        "* For example, if you’ve been putting on weight over the last few years, it can predict how much you’ll weigh in ten years time if you continue to put on weight at the same rate. \n",
        "* It will also give you a slew of statistics (including a p-value and a correlation coefficient) to tell you how accurate your model is."
      ]
    },
    {
      "cell_type": "code",
      "metadata": {
        "colab": {
          "base_uri": "https://localhost:8080/",
          "height": 296
        },
        "id": "KDwkBtijXnsG",
        "outputId": "50ab1c8d-b070-4799-c3d9-f3177224bcfe"
      },
      "source": [
        "import pandas as pd\n",
        "import matplotlib.pyplot as plt\n",
        "\n",
        "data = pd.read_csv('csvData.csv')[['Year', 'TotalPopulation']]\n",
        "data[data.Year <= 2010].plot.scatter(x='Year',y='TotalPopulation')\n",
        "\n"
      ],
      "execution_count": null,
      "outputs": [
        {
          "data": {
            "text/plain": [
              "<matplotlib.axes._subplots.AxesSubplot at 0x7f2020765590>"
            ]
          },
          "execution_count": 170,
          "metadata": {},
          "output_type": "execute_result"
        },
        {
          "data": {
            "image/png": "[encoded data removed]",
            "text/plain": [
              "<Figure size 432x288 with 1 Axes>"
            ]
          },
          "metadata": {},
          "output_type": "display_data"
        }
      ]
    },
    {
      "cell_type": "markdown",
      "metadata": {
        "id": "Z4BCCM46kCYE"
      },
      "source": [
        "what was the total population in the year 1984?"
      ]
    },
    {
      "cell_type": "code",
      "metadata": {
        "colab": {
          "base_uri": "https://localhost:8080/"
        },
        "id": "2fxPtOwGYHgH",
        "outputId": "32e29127-7847-4b6e-daf8-1f503086f5e2"
      },
      "source": [
        "from sklearn.linear_model import LinearRegression\n",
        "import numpy as np\n",
        "#fit the regression model\n",
        "model = LinearRegression().fit(data.Year.values.reshape(-1,1), data.TotalPopulation.values.reshape(-1,1))\n",
        "#predict the new data\n",
        "years = np.array(range(1980,1990,1)).reshape(-1,1)\n",
        "pops = np.stack(model.predict(years))\n",
        "print(np.column_stack((years, pops)))\n"
      ],
      "execution_count": null,
      "outputs": [
        {
          "name": "stdout",
          "output_type": "stream",
          "text": [
            "[[ 1980.         20729.52440792]\n",
            " [ 1981.         21278.00998309]\n",
            " [ 1982.         21826.49555826]\n",
            " [ 1983.         22374.98113342]\n",
            " [ 1984.         22923.46670859]\n",
            " [ 1985.         23471.95228376]\n",
            " [ 1986.         24020.43785892]\n",
            " [ 1987.         24568.92343409]\n",
            " [ 1988.         25117.40900926]\n",
            " [ 1989.         25665.89458443]]\n"
          ]
        }
      ]
    },
    {
      "cell_type": "markdown",
      "metadata": {
        "id": "KPniJznmoJ_X"
      },
      "source": [
        "we can predict the future populations"
      ]
    },
    {
      "cell_type": "code",
      "metadata": {
        "colab": {
          "base_uri": "https://localhost:8080/",
          "height": 296
        },
        "id": "8GU1ekIJoPM3",
        "outputId": "5b059ad0-faa5-497b-c05f-fe1f758f8e4b"
      },
      "source": [
        "years = np.array(range(2010,2040,2)).reshape(-1,1)\n",
        "pops = model.predict(years)\n",
        "#plot real data\n",
        "ax = data.plot.scatter(x='Year',y='TotalPopulation')\n",
        "#plot predicted data\n",
        "pdata = pd.DataFrame({'Year':years.reshape(-1), 'TotalPopulation':pops.reshape(-1)})\n",
        "pdata.plot.scatter(x='Year',y='TotalPopulation', ax = ax, c='r')"
      ],
      "execution_count": null,
      "outputs": [
        {
          "data": {
            "text/plain": [
              "<matplotlib.axes._subplots.AxesSubplot at 0x7f2020685090>"
            ]
          },
          "execution_count": 172,
          "metadata": {},
          "output_type": "execute_result"
        },
        {
          "data": {
            "image/png": "[encoded data removed]",
            "text/plain": [
              "<Figure size 432x288 with 1 Axes>"
            ]
          },
          "metadata": {},
          "output_type": "display_data"
        }
      ]
    },
    {
      "cell_type": "markdown",
      "metadata": {
        "id": "8TMek5JE_HwG"
      },
      "source": [
        "* polynomial regression is a generalized case of linear regression. \n",
        "* You assume the polynomial dependence between the output and inputs."
      ]
    },
    {
      "cell_type": "code",
      "metadata": {
        "colab": {
          "base_uri": "https://localhost:8080/",
          "height": 265
        },
        "id": "urAvXEBPCe0s",
        "outputId": "0265c1db-1fa6-4594-ca8d-46f765ecf429"
      },
      "source": [
        "data = pd.read_csv('csvdata2.csv')\n",
        "data.index =data['Country Name']\n",
        "data = data.loc['Algeria'][5:-1]\n",
        "data.index = data.index.astype(int)\n",
        "data.plot();\n"
      ],
      "execution_count": null,
      "outputs": [
        {
          "data": {
            "image/png": "[encoded data removed]",
            "text/plain": [
              "<Figure size 432x288 with 1 Axes>"
            ]
          },
          "metadata": {},
          "output_type": "display_data"
        }
      ]
    },
    {
      "cell_type": "code",
      "metadata": {
        "colab": {
          "base_uri": "https://localhost:8080/",
          "height": 296
        },
        "id": "oEdv_SzQ_T6R",
        "outputId": "c99e79a6-fd92-4420-e831-25611eece93e"
      },
      "source": [
        "from sklearn.preprocessing import PolynomialFeatures\n",
        "\n",
        "ax = data.plot(c='k', label=\"Growth rate\")\n",
        "\n",
        "#linear regression\n",
        "model = LinearRegression().fit(data.index.values.reshape(-1,1), data.values.reshape(-1,1))\n",
        "years = data.index.values.reshape(-1,1)\n",
        "rates = model.predict(years)\n",
        "p_data_linear = pd.DataFrame({'Year':years.reshape(-1), 'Linear Regression':rates.reshape(-1)})\n",
        "p_data_linear.plot(x='Year',y='Linear Regression', ax = ax, c='b')\n",
        "\n",
        "#polynomial regression\n",
        "poly_reg = PolynomialFeatures(degree=10)\n",
        "X_poly = poly_reg.fit_transform(years)\n",
        "pol_reg = LinearRegression().fit(X_poly, data.values.reshape(-1,1))\n",
        "rates = pol_reg.predict(X_poly)\n",
        "\n",
        "p_data_poly = pd.DataFrame({'Year':years.reshape(-1), 'polynomial Regression':rates.reshape(-1)})\n",
        "p_data_poly.plot(x='Year',y='polynomial Regression', c='r', ax =ax)\n",
        "\n",
        "ax.legend()\n",
        "years.shape"
      ],
      "execution_count": null,
      "outputs": [
        {
          "data": {
            "text/plain": [
              "(60, 1)"
            ]
          },
          "execution_count": 167,
          "metadata": {},
          "output_type": "execute_result"
        },
        {
          "data": {
            "image/png": "[encoded data removed]",
            "text/plain": [
              "<Figure size 432x288 with 1 Axes>"
            ]
          },
          "metadata": {},
          "output_type": "display_data"
        }
      ]
    },
    {
      "cell_type": "markdown",
      "metadata": {
        "id": "dKknc_lGU9s5"
      },
      "source": [
        "* The strength of the linear association between two variables is quantified by the **correlation coefficient**.\n",
        "* the correlation coefficient standardizes the variables, changes in scale or units of measurement will not affect its value.\n",
        "* the correlation coefficient is often more useful than a graphical depiction in determining the strength of the association between two variables.\n",
        "* The correlation coefficient is a useful value in linear regression. This value represents the fraction of the variation in one variable that may be explained by the other variable. "
      ]
    },
    {
      "cell_type": "code",
      "metadata": {
        "colab": {
          "base_uri": "https://localhost:8080/",
          "height": 296
        },
        "id": "YBTpblwMXdKw",
        "outputId": "4985ee32-9f6b-4a1c-c965-c74955e25aae"
      },
      "source": [
        "years = data.Year.values.reshape(-1,1)\n",
        "pops = model.predict(years)\n",
        "#plot real data\n",
        "ax = data.plot.scatter(x='Year',y='TotalPopulation')\n",
        "#plot predicted data\n",
        "pdata = pd.DataFrame({'Year':years.reshape(-1), 'TotalPopulation':pops.reshape(-1)})\n",
        "pdata.plot(x='Year',y='TotalPopulation', ax = ax, c='r', label ='Linear regression')\n",
        "model.coef_\n",
        "# pops"
      ],
      "execution_count": null,
      "outputs": [
        {
          "data": {
            "text/plain": [
              "array([[548.48557517]])"
            ]
          },
          "execution_count": 194,
          "metadata": {},
          "output_type": "execute_result"
        },
        {
          "data": {
            "image/png": "[encoded data removed]",
            "text/plain": [
              "<Figure size 432x288 with 1 Axes>"
            ]
          },
          "metadata": {},
          "output_type": "display_data"
        }
      ]
    },
    {
      "cell_type": "markdown",
      "metadata": {
        "id": "3W85jn918CCJ"
      },
      "source": [
        "# 9.Time-series data analysis and visualization"
      ]
    },
    {
      "cell_type": "markdown",
      "metadata": {
        "id": "rWR5JlmZ8E7w"
      },
      "source": [
        "* Time series (TS) (resp., Time panel data) is a sequence of observations recorded at regular time intervals(hourly, daily, weekly, monthly, quarterly and annual).\n",
        "* TS analysis involves understanding various aspects about the inherent nature of the series to create meaningful and accurate forecasts.\n",
        "* We have already seen examples of time series."
      ]
    },
    {
      "cell_type": "code",
      "metadata": {
        "colab": {
          "base_uri": "https://localhost:8080/"
        },
        "id": "UKVnE9k_7b6t",
        "outputId": "bfa85f0b-bfd4-4cb2-9416-372c2982a16b"
      },
      "source": [
        "!wget \"https://covid.observer/dz/dz-covid.observer.csv?2021-11-08\" -O \"dz-covid19.csv\""
      ],
      "execution_count": null,
      "outputs": [
        {
          "name": "stdout",
          "output_type": "stream",
          "text": [
            "--2021-11-08 19:29:08--  https://covid.observer/dz/dz-covid.observer.csv?2021-11-08\n",
            "Resolving covid.observer (covid.observer)... 95.217.6.149\n",
            "Connecting to covid.observer (covid.observer)|95.217.6.149|:443... connected.\n",
            "HTTP request sent, awaiting response... 200 OK\n",
            "Length: 79826 (78K) [application/octet-stream]\n",
            "Saving to: ‘dz-covid19.csv’\n",
            "\n",
            "dz-covid19.csv      100%[===================>]  77.96K  --.-KB/s    in 0.1s    \n",
            "\n",
            "2021-11-08 19:29:09 (626 KB/s) - ‘dz-covid19.csv’ saved [79826/79826]\n",
            "\n"
          ]
        }
      ]
    },
    {
      "cell_type": "code",
      "metadata": {
        "colab": {
          "base_uri": "https://localhost:8080/",
          "height": 1000
        },
        "id": "si9lUwkkBxKp",
        "outputId": "9133fde7-b712-4d37-c316-6752cb75a141"
      },
      "source": [
        "import pandas as pd\n",
        "data = pd.read_csv(\"dz-covid19.csv\", parse_dates=['Date'], index_col= 'Date'); \n",
        "data.head(20)"
      ],
      "execution_count": null,
      "outputs": [
        {
          "data": {
            "text/html": [
              "<div>\n",
              "<style scoped>\n",
              "    .dataframe tbody tr th:only-of-type {\n",
              "        vertical-align: middle;\n",
              "    }\n",
              "\n",
              "    .dataframe tbody tr th {\n",
              "        vertical-align: top;\n",
              "    }\n",
              "\n",
              "    .dataframe thead th {\n",
              "        text-align: right;\n",
              "    }\n",
              "</style>\n",
              "<table border=\"1\" class=\"dataframe\">\n",
              "  <thead>\n",
              "    <tr style=\"text-align: right;\">\n",
              "      <th></th>\n",
              "      <th>Confirmed cases</th>\n",
              "      <th>Daily growth, %</th>\n",
              "      <th>Recovered cases</th>\n",
              "      <th>Fatal cases</th>\n",
              "      <th>Active cases</th>\n",
              "      <th>Recovery rate, %</th>\n",
              "      <th>Mortality rate, %</th>\n",
              "      <th>Affected population, %</th>\n",
              "      <th>1 confirmed per every</th>\n",
              "      <th>1 died per every</th>\n",
              "      <th>Confirmed per 1000</th>\n",
              "      <th>Died per 1000</th>\n",
              "    </tr>\n",
              "    <tr>\n",
              "      <th>Date</th>\n",
              "      <th></th>\n",
              "      <th></th>\n",
              "      <th></th>\n",
              "      <th></th>\n",
              "      <th></th>\n",
              "      <th></th>\n",
              "      <th></th>\n",
              "      <th></th>\n",
              "      <th></th>\n",
              "      <th></th>\n",
              "      <th></th>\n",
              "      <th></th>\n",
              "    </tr>\n",
              "  </thead>\n",
              "  <tbody>\n",
              "    <tr>\n",
              "      <th>2021-11-07</th>\n",
              "      <td>207156</td>\n",
              "      <td>0.037184</td>\n",
              "      <td>0</td>\n",
              "      <td>5945</td>\n",
              "      <td>201211</td>\n",
              "      <td>0.0</td>\n",
              "      <td>2.869818</td>\n",
              "      <td>0.481164</td>\n",
              "      <td>208</td>\n",
              "      <td>7242.0</td>\n",
              "      <td>4.811640</td>\n",
              "      <td>0.138085</td>\n",
              "    </tr>\n",
              "    <tr>\n",
              "      <th>2021-11-06</th>\n",
              "      <td>207079</td>\n",
              "      <td>0.040581</td>\n",
              "      <td>0</td>\n",
              "      <td>5941</td>\n",
              "      <td>201138</td>\n",
              "      <td>0.0</td>\n",
              "      <td>2.868953</td>\n",
              "      <td>0.480985</td>\n",
              "      <td>208</td>\n",
              "      <td>7247.0</td>\n",
              "      <td>4.809851</td>\n",
              "      <td>0.137992</td>\n",
              "    </tr>\n",
              "    <tr>\n",
              "      <th>2021-11-05</th>\n",
              "      <td>206995</td>\n",
              "      <td>0.056555</td>\n",
              "      <td>0</td>\n",
              "      <td>5939</td>\n",
              "      <td>201056</td>\n",
              "      <td>0.0</td>\n",
              "      <td>2.869151</td>\n",
              "      <td>0.480790</td>\n",
              "      <td>208</td>\n",
              "      <td>7249.0</td>\n",
              "      <td>4.807900</td>\n",
              "      <td>0.137946</td>\n",
              "    </tr>\n",
              "    <tr>\n",
              "      <th>2021-11-04</th>\n",
              "      <td>206878</td>\n",
              "      <td>0.059975</td>\n",
              "      <td>0</td>\n",
              "      <td>5936</td>\n",
              "      <td>200942</td>\n",
              "      <td>0.0</td>\n",
              "      <td>2.869324</td>\n",
              "      <td>0.480518</td>\n",
              "      <td>208</td>\n",
              "      <td>7253.0</td>\n",
              "      <td>4.805182</td>\n",
              "      <td>0.137876</td>\n",
              "    </tr>\n",
              "    <tr>\n",
              "      <th>2021-11-03</th>\n",
              "      <td>206754</td>\n",
              "      <td>0.050811</td>\n",
              "      <td>0</td>\n",
              "      <td>5931</td>\n",
              "      <td>200823</td>\n",
              "      <td>0.0</td>\n",
              "      <td>2.868626</td>\n",
              "      <td>0.480230</td>\n",
              "      <td>208</td>\n",
              "      <td>7259.0</td>\n",
              "      <td>4.802302</td>\n",
              "      <td>0.137760</td>\n",
              "    </tr>\n",
              "    <tr>\n",
              "      <th>2021-11-02</th>\n",
              "      <td>206649</td>\n",
              "      <td>0.040181</td>\n",
              "      <td>0</td>\n",
              "      <td>5927</td>\n",
              "      <td>200722</td>\n",
              "      <td>0.0</td>\n",
              "      <td>2.868148</td>\n",
              "      <td>0.479986</td>\n",
              "      <td>208</td>\n",
              "      <td>7264.0</td>\n",
              "      <td>4.799863</td>\n",
              "      <td>0.137667</td>\n",
              "    </tr>\n",
              "    <tr>\n",
              "      <th>2021-11-01</th>\n",
              "      <td>206566</td>\n",
              "      <td>0.055219</td>\n",
              "      <td>0</td>\n",
              "      <td>5924</td>\n",
              "      <td>200642</td>\n",
              "      <td>0.0</td>\n",
              "      <td>2.867849</td>\n",
              "      <td>0.479794</td>\n",
              "      <td>208</td>\n",
              "      <td>7268.0</td>\n",
              "      <td>4.797936</td>\n",
              "      <td>0.137598</td>\n",
              "    </tr>\n",
              "    <tr>\n",
              "      <th>2021-10-31</th>\n",
              "      <td>206452</td>\n",
              "      <td>0.045552</td>\n",
              "      <td>0</td>\n",
              "      <td>5920</td>\n",
              "      <td>200532</td>\n",
              "      <td>0.0</td>\n",
              "      <td>2.867495</td>\n",
              "      <td>0.479529</td>\n",
              "      <td>209</td>\n",
              "      <td>7272.0</td>\n",
              "      <td>4.795288</td>\n",
              "      <td>0.137505</td>\n",
              "    </tr>\n",
              "    <tr>\n",
              "      <th>2021-10-30</th>\n",
              "      <td>206358</td>\n",
              "      <td>0.042663</td>\n",
              "      <td>0</td>\n",
              "      <td>5918</td>\n",
              "      <td>200440</td>\n",
              "      <td>0.0</td>\n",
              "      <td>2.867832</td>\n",
              "      <td>0.479310</td>\n",
              "      <td>209</td>\n",
              "      <td>7275.0</td>\n",
              "      <td>4.793104</td>\n",
              "      <td>0.137458</td>\n",
              "    </tr>\n",
              "    <tr>\n",
              "      <th>2021-10-29</th>\n",
              "      <td>206270</td>\n",
              "      <td>0.053357</td>\n",
              "      <td>0</td>\n",
              "      <td>5913</td>\n",
              "      <td>200357</td>\n",
              "      <td>0.0</td>\n",
              "      <td>2.866631</td>\n",
              "      <td>0.479106</td>\n",
              "      <td>209</td>\n",
              "      <td>7281.0</td>\n",
              "      <td>4.791060</td>\n",
              "      <td>0.137342</td>\n",
              "    </tr>\n",
              "    <tr>\n",
              "      <th>2021-10-28</th>\n",
              "      <td>206160</td>\n",
              "      <td>0.044160</td>\n",
              "      <td>0</td>\n",
              "      <td>5907</td>\n",
              "      <td>200253</td>\n",
              "      <td>0.0</td>\n",
              "      <td>2.865250</td>\n",
              "      <td>0.478851</td>\n",
              "      <td>209</td>\n",
              "      <td>7288.0</td>\n",
              "      <td>4.788505</td>\n",
              "      <td>0.137203</td>\n",
              "    </tr>\n",
              "    <tr>\n",
              "      <th>2021-10-27</th>\n",
              "      <td>206069</td>\n",
              "      <td>0.038351</td>\n",
              "      <td>0</td>\n",
              "      <td>5904</td>\n",
              "      <td>200165</td>\n",
              "      <td>0.0</td>\n",
              "      <td>2.865060</td>\n",
              "      <td>0.478639</td>\n",
              "      <td>209</td>\n",
              "      <td>7292.0</td>\n",
              "      <td>4.786392</td>\n",
              "      <td>0.137133</td>\n",
              "    </tr>\n",
              "    <tr>\n",
              "      <th>2021-10-26</th>\n",
              "      <td>205990</td>\n",
              "      <td>0.042253</td>\n",
              "      <td>0</td>\n",
              "      <td>5899</td>\n",
              "      <td>200091</td>\n",
              "      <td>0.0</td>\n",
              "      <td>2.863731</td>\n",
              "      <td>0.478456</td>\n",
              "      <td>209</td>\n",
              "      <td>7298.0</td>\n",
              "      <td>4.784557</td>\n",
              "      <td>0.137017</td>\n",
              "    </tr>\n",
              "    <tr>\n",
              "      <th>2021-10-25</th>\n",
              "      <td>205903</td>\n",
              "      <td>0.039354</td>\n",
              "      <td>0</td>\n",
              "      <td>5894</td>\n",
              "      <td>200009</td>\n",
              "      <td>0.0</td>\n",
              "      <td>2.862513</td>\n",
              "      <td>0.478254</td>\n",
              "      <td>209</td>\n",
              "      <td>7305.0</td>\n",
              "      <td>4.782536</td>\n",
              "      <td>0.136901</td>\n",
              "    </tr>\n",
              "    <tr>\n",
              "      <th>2021-10-24</th>\n",
              "      <td>205822</td>\n",
              "      <td>0.034994</td>\n",
              "      <td>0</td>\n",
              "      <td>5890</td>\n",
              "      <td>199932</td>\n",
              "      <td>0.0</td>\n",
              "      <td>2.861696</td>\n",
              "      <td>0.478065</td>\n",
              "      <td>209</td>\n",
              "      <td>7310.0</td>\n",
              "      <td>4.780655</td>\n",
              "      <td>0.136808</td>\n",
              "    </tr>\n",
              "    <tr>\n",
              "      <th>2021-10-23</th>\n",
              "      <td>205750</td>\n",
              "      <td>0.032574</td>\n",
              "      <td>0</td>\n",
              "      <td>5886</td>\n",
              "      <td>199864</td>\n",
              "      <td>0.0</td>\n",
              "      <td>2.860753</td>\n",
              "      <td>0.477898</td>\n",
              "      <td>209</td>\n",
              "      <td>7314.0</td>\n",
              "      <td>4.778982</td>\n",
              "      <td>0.136715</td>\n",
              "    </tr>\n",
              "    <tr>\n",
              "      <th>2021-10-22</th>\n",
              "      <td>205683</td>\n",
              "      <td>0.040856</td>\n",
              "      <td>0</td>\n",
              "      <td>5883</td>\n",
              "      <td>199800</td>\n",
              "      <td>0.0</td>\n",
              "      <td>2.860227</td>\n",
              "      <td>0.477743</td>\n",
              "      <td>209</td>\n",
              "      <td>7318.0</td>\n",
              "      <td>4.777426</td>\n",
              "      <td>0.136645</td>\n",
              "    </tr>\n",
              "    <tr>\n",
              "      <th>2021-10-21</th>\n",
              "      <td>205599</td>\n",
              "      <td>0.034058</td>\n",
              "      <td>0</td>\n",
              "      <td>5881</td>\n",
              "      <td>199718</td>\n",
              "      <td>0.0</td>\n",
              "      <td>2.860422</td>\n",
              "      <td>0.477547</td>\n",
              "      <td>209</td>\n",
              "      <td>7321.0</td>\n",
              "      <td>4.775475</td>\n",
              "      <td>0.136599</td>\n",
              "    </tr>\n",
              "    <tr>\n",
              "      <th>2021-10-20</th>\n",
              "      <td>205529</td>\n",
              "      <td>0.036991</td>\n",
              "      <td>0</td>\n",
              "      <td>5878</td>\n",
              "      <td>199651</td>\n",
              "      <td>0.0</td>\n",
              "      <td>2.859937</td>\n",
              "      <td>0.477385</td>\n",
              "      <td>209</td>\n",
              "      <td>7324.0</td>\n",
              "      <td>4.773849</td>\n",
              "      <td>0.136529</td>\n",
              "    </tr>\n",
              "    <tr>\n",
              "      <th>2021-10-19</th>\n",
              "      <td>205453</td>\n",
              "      <td>0.043338</td>\n",
              "      <td>0</td>\n",
              "      <td>5875</td>\n",
              "      <td>199578</td>\n",
              "      <td>0.0</td>\n",
              "      <td>2.859535</td>\n",
              "      <td>0.477208</td>\n",
              "      <td>210</td>\n",
              "      <td>7328.0</td>\n",
              "      <td>4.772084</td>\n",
              "      <td>0.136459</td>\n",
              "    </tr>\n",
              "  </tbody>\n",
              "</table>\n",
              "</div>"
            ],
            "text/plain": [
              "            Confirmed cases  Daily growth, %  ...  Confirmed per 1000  Died per 1000\n",
              "Date                                          ...                                   \n",
              "2021-11-07           207156         0.037184  ...            4.811640       0.138085\n",
              "2021-11-06           207079         0.040581  ...            4.809851       0.137992\n",
              "2021-11-05           206995         0.056555  ...            4.807900       0.137946\n",
              "2021-11-04           206878         0.059975  ...            4.805182       0.137876\n",
              "2021-11-03           206754         0.050811  ...            4.802302       0.137760\n",
              "2021-11-02           206649         0.040181  ...            4.799863       0.137667\n",
              "2021-11-01           206566         0.055219  ...            4.797936       0.137598\n",
              "2021-10-31           206452         0.045552  ...            4.795288       0.137505\n",
              "2021-10-30           206358         0.042663  ...            4.793104       0.137458\n",
              "2021-10-29           206270         0.053357  ...            4.791060       0.137342\n",
              "2021-10-28           206160         0.044160  ...            4.788505       0.137203\n",
              "2021-10-27           206069         0.038351  ...            4.786392       0.137133\n",
              "2021-10-26           205990         0.042253  ...            4.784557       0.137017\n",
              "2021-10-25           205903         0.039354  ...            4.782536       0.136901\n",
              "2021-10-24           205822         0.034994  ...            4.780655       0.136808\n",
              "2021-10-23           205750         0.032574  ...            4.778982       0.136715\n",
              "2021-10-22           205683         0.040856  ...            4.777426       0.136645\n",
              "2021-10-21           205599         0.034058  ...            4.775475       0.136599\n",
              "2021-10-20           205529         0.036991  ...            4.773849       0.136529\n",
              "2021-10-19           205453         0.043338  ...            4.772084       0.136459\n",
              "\n",
              "[20 rows x 12 columns]"
            ]
          },
          "execution_count": 75,
          "metadata": {},
          "output_type": "execute_result"
        }
      ]
    },
    {
      "cell_type": "markdown",
      "metadata": {
        "id": "FG0NKzIhDERU"
      },
      "source": [
        "Let's define a function to ease the visualization"
      ]
    },
    {
      "cell_type": "code",
      "metadata": {
        "id": "zc7_CPRRDDHY"
      },
      "source": [
        "import matplotlib.pyplot as plt\n",
        "\n",
        "\n",
        "def plot_sr(x, y, title=\"\", xlabel='Date', ylabel='Value', dpi=100):\n",
        "    plt.figure(figsize=(16,5), dpi=dpi)\n",
        "    plt.plot(x, y, color='tab:red')\n",
        "    plt.gca().set(title=title, xlabel=xlabel, ylabel=ylabel)\n",
        "    plt.show()"
      ],
      "execution_count": null,
      "outputs": []
    },
    {
      "cell_type": "markdown",
      "metadata": {
        "id": "-fjMLl2YDMTf"
      },
      "source": [
        "plot the number of cases per day"
      ]
    },
    {
      "cell_type": "code",
      "metadata": {
        "colab": {
          "base_uri": "https://localhost:8080/",
          "height": 423
        },
        "id": "zDqtagEiDO7B",
        "outputId": "8781c0be-5515-439b-a37f-17a1fedeeefb"
      },
      "source": [
        "ds = data['Confirmed cases']\n",
        "plot_sr(data.index, data['Confirmed cases'], \"number of daily Covid-19 cases in algeria\" )"
      ],
      "execution_count": null,
      "outputs": [
        {
          "data": {
            "image/png": "[encoded data removed]",
            "text/plain": [
              "<Figure size 1600x500 with 1 Axes>"
            ]
          },
          "metadata": {},
          "output_type": "display_data"
        }
      ]
    },
    {
      "cell_type": "markdown",
      "metadata": {
        "id": "_A6ZHJvhGknX"
      },
      "source": [
        "Let's see if there is any affect of months/Days of the week on the number of cases"
      ]
    },
    {
      "cell_type": "code",
      "metadata": {
        "colab": {
          "base_uri": "https://localhost:8080/",
          "height": 382
        },
        "id": "evWTIB3jGpx8",
        "outputId": "f4967344-0190-4944-f2be-70d550331ad6"
      },
      "source": [
        "import matplotlib.pyplot as plt\n",
        "plt.figure(figsize=(15,5))\n",
        "\n",
        "plt.subplot(1,2,1)\n",
        "data['Month'] =[m.month for m in data.index]\n",
        "gd = data.groupby('Month')['Confirmed cases'].mean()\n",
        "gd.plot.bar();\n",
        "\n",
        "plt.subplot(1,2,2)\n",
        "data['Day'] = [m.day_name() for m in data.index]\n",
        "gd = data.groupby('Day')['Confirmed cases'].mean()\n",
        "gd.plot.bar();"
      ],
      "execution_count": null,
      "outputs": [
        {
          "data": {
            "image/png": "[encoded data removed]",
            "text/plain": [
              "<Figure size 1080x360 with 2 Axes>"
            ]
          },
          "metadata": {},
          "output_type": "display_data"
        }
      ]
    },
    {
      "cell_type": "markdown",
      "metadata": {
        "id": "6YUG7H49L0Fi"
      },
      "source": [
        "* Any time series may be split into the following components: **Base Level + Trend + Seasonality + Error**\n",
        "* A time series may not have a distinct trend but have a seasonality. The opposite can also be true.\n",
        "* **cyclic** behaviour  happens when the rise and fall pattern in the series does not happen in fixed calendar-based intervals. do not confuse ‘cyclic’ effect with ‘seasonal’ effect.<br>\n",
        "\n",
        "**Additive time series:**\n",
        " = Base Level + Trend + Seasonality + Error\n",
        "\n",
        "**Multiplicative Time Series:**\n",
        " = Base Level x Trend x Seasonality x Error\n",
        "\n",
        "But how to decompose a series into its base subseries?"
      ]
    },
    {
      "cell_type": "code",
      "metadata": {
        "colab": {
          "base_uri": "https://localhost:8080/",
          "height": 337
        },
        "id": "ID8Nk-FXOTYX",
        "outputId": "19304624-e1e0-4df5-f64a-a1c6d933580c"
      },
      "source": [
        "from statsmodels.tsa.seasonal import seasonal_decompose\n",
        "\n",
        "plt.figure(figsize=(20,5))\n",
        "#Let's pick daily growth of three first months, we can see a trend\n",
        "sub_data = data['Daily growth, %'][0:90]\n",
        "result_add = seasonal_decompose(sub_data, model='additive', extrapolate_trend='freq')\n",
        "result_add.plot().suptitle('Additive Decompose', fontsize=12, size)\n"
      ],
      "execution_count": null,
      "outputs": [
        {
          "data": {
            "text/plain": [
              "Text(0.5, 0.98, 'Additive Decompose')"
            ]
          },
          "execution_count": 74,
          "metadata": {},
          "output_type": "execute_result"
        },
        {
          "data": {
            "text/plain": [
              "<Figure size 1440x360 with 0 Axes>"
            ]
          },
          "metadata": {},
          "output_type": "display_data"
        },
        {
          "data": {
            "image/png": "[encoded data removed]",
            "text/plain": [
              "<Figure size 432x288 with 4 Axes>"
            ]
          },
          "metadata": {},
          "output_type": "display_data"
        }
      ]
    },
    {
      "cell_type": "markdown",
      "metadata": {
        "id": "GqXQdIlvUVby"
      },
      "source": [
        "**Stationary and Non-Stationary Time Series:**<br>\n",
        "* A stationary series is where the values of the series are not function of time. (e.g., the statistical properties of the series like mean, variance and autocorrelation)\n",
        "* A stationary time series id devoid of seasonal effects.\n"
      ]
    },
    {
      "cell_type": "code",
      "metadata": {
        "colab": {
          "background_save": true,
          "base_uri": "https://localhost:8080/",
          "height": 364
        },
        "id": "s-CcrNgrVXgO",
        "outputId": "45905e13-f212-4f2f-e4c1-a39a9a390489"
      },
      "source": [
        "import numpy as np\n",
        "\n",
        "plt.figure(figsize=(20,5))\n",
        "plt.subplot(1,2,1)\n",
        "dg = data['Daily growth, %'][150:400]; dg.plot()\n",
        "\n",
        "#stationary series with no trend (differencing)\n",
        "plt.subplot(1,2,2)\n",
        "plt.plot([ np.log10(np.abs(dg[x+1] - dg[x])) for x in list(range(dg.count()-1)) ])"
      ],
      "execution_count": null,
      "outputs": [
        {
          "ename": "TypeError",
          "evalue": "ignored",
          "output_type": "error",
          "traceback": [
            "\u001b[0;31m---------------------------------------------------------------------------\u001b[0m",
            "\u001b[0;31mTypeError\u001b[0m                                 Traceback (most recent call last)",
            "\u001b[0;32m<ipython-input-163-52459e271524>\u001b[0m in \u001b[0;36m<module>\u001b[0;34m()\u001b[0m\n\u001b[1;32m      7\u001b[0m \u001b[0;31m#stationary series with no trend (differencing)\u001b[0m\u001b[0;34m\u001b[0m\u001b[0;34m\u001b[0m\u001b[0;34m\u001b[0m\u001b[0m\n\u001b[1;32m      8\u001b[0m \u001b[0mac\u001b[0m \u001b[0;34m=\u001b[0m \u001b[0;34m[\u001b[0m \u001b[0;34m(\u001b[0m\u001b[0mdg\u001b[0m\u001b[0;34m[\u001b[0m\u001b[0mx\u001b[0m\u001b[0;34m+\u001b[0m\u001b[0;36m1\u001b[0m\u001b[0;34m]\u001b[0m \u001b[0;34m-\u001b[0m \u001b[0mdg\u001b[0m\u001b[0;34m[\u001b[0m\u001b[0mx\u001b[0m\u001b[0;34m]\u001b[0m\u001b[0;34m)\u001b[0m \u001b[0;32mfor\u001b[0m \u001b[0mx\u001b[0m \u001b[0;32min\u001b[0m \u001b[0mlist\u001b[0m\u001b[0;34m(\u001b[0m\u001b[0mrange\u001b[0m\u001b[0;34m(\u001b[0m\u001b[0mdg\u001b[0m\u001b[0;34m.\u001b[0m\u001b[0mcount\u001b[0m\u001b[0;34m(\u001b[0m\u001b[0;34m)\u001b[0m\u001b[0;34m-\u001b[0m\u001b[0;36m1\u001b[0m\u001b[0;34m)\u001b[0m\u001b[0;34m)\u001b[0m \u001b[0;34m]\u001b[0m\u001b[0;34m\u001b[0m\u001b[0;34m\u001b[0m\u001b[0m\n\u001b[0;32m----> 9\u001b[0;31m \u001b[0mac\u001b[0m \u001b[0;34m=\u001b[0m \u001b[0;34m[\u001b[0m \u001b[0mac\u001b[0m\u001b[0;34m[\u001b[0m\u001b[0mx\u001b[0m\u001b[0;34m+\u001b[0m\u001b[0;36m1\u001b[0m\u001b[0;34m]\u001b[0m \u001b[0;34m-\u001b[0m \u001b[0mac\u001b[0m\u001b[0;34m[\u001b[0m\u001b[0mx\u001b[0m\u001b[0;34m]\u001b[0m \u001b[0;32mfor\u001b[0m \u001b[0mx\u001b[0m \u001b[0;32min\u001b[0m \u001b[0mlen\u001b[0m\u001b[0;34m(\u001b[0m\u001b[0mac\u001b[0m\u001b[0;34m)\u001b[0m \u001b[0;34m]\u001b[0m\u001b[0;34m\u001b[0m\u001b[0;34m\u001b[0m\u001b[0m\n\u001b[0m\u001b[1;32m     10\u001b[0m \u001b[0mplt\u001b[0m\u001b[0;34m.\u001b[0m\u001b[0msubplot\u001b[0m\u001b[0;34m(\u001b[0m\u001b[0;36m1\u001b[0m\u001b[0;34m,\u001b[0m\u001b[0;36m2\u001b[0m\u001b[0;34m,\u001b[0m\u001b[0;36m2\u001b[0m\u001b[0;34m)\u001b[0m\u001b[0;34m\u001b[0m\u001b[0;34m\u001b[0m\u001b[0m\n\u001b[1;32m     11\u001b[0m \u001b[0mplt\u001b[0m\u001b[0;34m.\u001b[0m\u001b[0mplot\u001b[0m\u001b[0;34m(\u001b[0m\u001b[0;34m[\u001b[0m \u001b[0mnp\u001b[0m\u001b[0;34m.\u001b[0m\u001b[0mlog10\u001b[0m\u001b[0;34m(\u001b[0m\u001b[0mnp\u001b[0m\u001b[0;34m.\u001b[0m\u001b[0mabs\u001b[0m\u001b[0;34m(\u001b[0m\u001b[0mdg\u001b[0m\u001b[0;34m[\u001b[0m\u001b[0mx\u001b[0m\u001b[0;34m+\u001b[0m\u001b[0;36m1\u001b[0m\u001b[0;34m]\u001b[0m \u001b[0;34m-\u001b[0m \u001b[0mdg\u001b[0m\u001b[0;34m[\u001b[0m\u001b[0mx\u001b[0m\u001b[0;34m]\u001b[0m\u001b[0;34m)\u001b[0m\u001b[0;34m)\u001b[0m \u001b[0;32mfor\u001b[0m \u001b[0mx\u001b[0m \u001b[0;32min\u001b[0m \u001b[0mlist\u001b[0m\u001b[0;34m(\u001b[0m\u001b[0mrange\u001b[0m\u001b[0;34m(\u001b[0m\u001b[0mdg\u001b[0m\u001b[0;34m.\u001b[0m\u001b[0mcount\u001b[0m\u001b[0;34m(\u001b[0m\u001b[0;34m)\u001b[0m\u001b[0;34m-\u001b[0m\u001b[0;36m1\u001b[0m\u001b[0;34m)\u001b[0m\u001b[0;34m)\u001b[0m \u001b[0;34m]\u001b[0m\u001b[0;34m)\u001b[0m\u001b[0;34m\u001b[0m\u001b[0;34m\u001b[0m\u001b[0m\n",
            "\u001b[0;31mTypeError\u001b[0m: 'int' object is not iterable"
          ]
        },
        {
          "data": {
            "image/png": "[encoded data removed]",
            "text/plain": [
              "<Figure size 1440x360 with 1 Axes>"
            ]
          },
          "metadata": {},
          "output_type": "display_data"
        }
      ]
    },
    {
      "cell_type": "markdown",
      "metadata": {
        "id": "e6Ilg1BOe0Uz"
      },
      "source": [
        "* It is possible to make nearly any time series stationary by applying a suitable transformation.\n",
        "* Most statistical forecasting methods are designed to work on a stationary time series.\n",
        "You can make series stationary by:\n",
        "\n",
        "  1. Differencing the Series (once or more)\n",
        "  2. Take the log of the series\n",
        "3. Take the nth root of the series\n",
        "Combination of the above"
      ]
    },
    {
      "cell_type": "markdown",
      "metadata": {
        "id": "_FwYSJeg_eOm"
      },
      "source": [
        "# 10.Dataset planning research questions: exploration vs. hypothesis"
      ]
    },
    {
      "cell_type": "markdown",
      "metadata": {
        "id": "f82Ev77L_iPN"
      },
      "source": [
        "\n",
        "\n",
        "*   \"It is vain to do with more what can be done with less\" (14th-century maxim)\n",
        "*   Usually applied to the interpretation of scientific results as equal as to choice of analysis.\n",
        "* data of few species and few samples is easiest to interpret in a simple table.\n",
        "* data of dozens of species and samples is impossible, for the human mind, to simultaneously contemplate dozens of dimensions.\n",
        "\n",
        "\n"
      ]
    },
    {
      "cell_type": "markdown",
      "metadata": {
        "id": "AlW_5XZXFBnT"
      },
      "source": [
        "**a. Exploratory Analysis**<br>\n",
        "* A good ordination technique will be able to determine the most important dimensions.\n",
        "* Before CCA, the primary goal of ordination was considered \"exploratory\"\n",
        "* It was the job of the ecologist to use his or her knowledge and intuition to collect and interpret data; \n",
        "* pure objectivity could potentially interfere with the ability to distinguish important gradients. Ordination was often considered as much an art as a science"
      ]
    },
    {
      "cell_type": "markdown",
      "metadata": {
        "id": "tGZzkVziFuYe"
      },
      "source": [
        "**b. Hypothesis-Driven Analysis**<br>\n",
        "* Once CCA was available, multivariate direct gradient analysis became feasible.*  It became possible to rigorously test statistical hypotheses and go beyond mere \"exploratory\" analysis.\n",
        "*  However, testing hypotheses requires complete objectivity, which results in repeatability and falsifiability. \n",
        "* The two basic motivations for multivariate direct gradient analysis, hypothesis testing and exploratory analysis, conflict with each other to some extent:\n"
      ]
    },
    {
      "cell_type": "code",
      "metadata": {
        "colab": {
          "base_uri": "https://localhost:8080/"
        },
        "id": "iOI1cD6QHcp4",
        "outputId": "7bfa3a22-b6ee-4f98-e2c0-8b71663f5a78"
      },
      "source": [
        "!wget \"https://raw.githubusercontent.com/jgscott/STA380/master/data/mmreg.csv\" -O 'mmreg.csv'"
      ],
      "execution_count": null,
      "outputs": [
        {
          "output_type": "stream",
          "name": "stdout",
          "text": [
            "--2021-11-13 21:05:35--  https://raw.githubusercontent.com/jgscott/STA380/master/data/mmreg.csv\n",
            "Resolving raw.githubusercontent.com (raw.githubusercontent.com)... 185.199.108.133, 185.199.109.133, 185.199.110.133, ...\n",
            "Connecting to raw.githubusercontent.com (raw.githubusercontent.com)|185.199.108.133|:443... connected.\n",
            "HTTP request sent, awaiting response... 200 OK\n",
            "Length: 19922 (19K) [text/plain]\n",
            "Saving to: ‘mmreg.csv’\n",
            "\n",
            "\rmmreg.csv             0%[                    ]       0  --.-KB/s               \rmmreg.csv           100%[===================>]  19.46K  --.-KB/s    in 0s      \n",
            "\n",
            "2021-11-13 21:05:35 (93.1 MB/s) - ‘mmreg.csv’ saved [19922/19922]\n",
            "\n"
          ]
        }
      ]
    },
    {
      "cell_type": "code",
      "metadata": {
        "colab": {
          "base_uri": "https://localhost:8080/",
          "height": 204
        },
        "id": "d0IrShGZHm9N",
        "outputId": "f6de6854-a7bc-4cb1-dcca-420a4b3c4920"
      },
      "source": [
        "import pandas as pd\n",
        "data = pd.read_csv('mmreg.csv')\n",
        "data.head()"
      ],
      "execution_count": null,
      "outputs": [
        {
          "output_type": "execute_result",
          "data": {
            "text/html": [
              "<div>\n",
              "<style scoped>\n",
              "    .dataframe tbody tr th:only-of-type {\n",
              "        vertical-align: middle;\n",
              "    }\n",
              "\n",
              "    .dataframe tbody tr th {\n",
              "        vertical-align: top;\n",
              "    }\n",
              "\n",
              "    .dataframe thead th {\n",
              "        text-align: right;\n",
              "    }\n",
              "</style>\n",
              "<table border=\"1\" class=\"dataframe\">\n",
              "  <thead>\n",
              "    <tr style=\"text-align: right;\">\n",
              "      <th></th>\n",
              "      <th>locus_of_control</th>\n",
              "      <th>self_concept</th>\n",
              "      <th>motivation</th>\n",
              "      <th>read</th>\n",
              "      <th>write</th>\n",
              "      <th>math</th>\n",
              "      <th>science</th>\n",
              "      <th>female</th>\n",
              "    </tr>\n",
              "  </thead>\n",
              "  <tbody>\n",
              "    <tr>\n",
              "      <th>0</th>\n",
              "      <td>-0.84</td>\n",
              "      <td>-0.24</td>\n",
              "      <td>1.00</td>\n",
              "      <td>54.8</td>\n",
              "      <td>64.5</td>\n",
              "      <td>44.5</td>\n",
              "      <td>52.6</td>\n",
              "      <td>1</td>\n",
              "    </tr>\n",
              "    <tr>\n",
              "      <th>1</th>\n",
              "      <td>-0.38</td>\n",
              "      <td>-0.47</td>\n",
              "      <td>0.67</td>\n",
              "      <td>62.7</td>\n",
              "      <td>43.7</td>\n",
              "      <td>44.7</td>\n",
              "      <td>52.6</td>\n",
              "      <td>1</td>\n",
              "    </tr>\n",
              "    <tr>\n",
              "      <th>2</th>\n",
              "      <td>0.89</td>\n",
              "      <td>0.59</td>\n",
              "      <td>0.67</td>\n",
              "      <td>60.6</td>\n",
              "      <td>56.7</td>\n",
              "      <td>70.5</td>\n",
              "      <td>58.0</td>\n",
              "      <td>0</td>\n",
              "    </tr>\n",
              "    <tr>\n",
              "      <th>3</th>\n",
              "      <td>0.71</td>\n",
              "      <td>0.28</td>\n",
              "      <td>0.67</td>\n",
              "      <td>62.7</td>\n",
              "      <td>56.7</td>\n",
              "      <td>54.7</td>\n",
              "      <td>58.0</td>\n",
              "      <td>0</td>\n",
              "    </tr>\n",
              "    <tr>\n",
              "      <th>4</th>\n",
              "      <td>-0.64</td>\n",
              "      <td>0.03</td>\n",
              "      <td>1.00</td>\n",
              "      <td>41.6</td>\n",
              "      <td>46.3</td>\n",
              "      <td>38.4</td>\n",
              "      <td>36.3</td>\n",
              "      <td>1</td>\n",
              "    </tr>\n",
              "  </tbody>\n",
              "</table>\n",
              "</div>"
            ],
            "text/plain": [
              "   locus_of_control  self_concept  motivation  ...  math  science  female\n",
              "0             -0.84         -0.24        1.00  ...  44.5     52.6       1\n",
              "1             -0.38         -0.47        0.67  ...  44.7     52.6       1\n",
              "2              0.89          0.59        0.67  ...  70.5     58.0       0\n",
              "3              0.71          0.28        0.67  ...  54.7     58.0       0\n",
              "4             -0.64          0.03        1.00  ...  38.4     36.3       1\n",
              "\n",
              "[5 rows x 8 columns]"
            ]
          },
          "metadata": {},
          "execution_count": 4
        }
      ]
    },
    {
      "cell_type": "markdown",
      "metadata": {
        "id": "f6Gn_ZOvMqZk"
      },
      "source": [
        "locus"
      ]
    },
    {
      "cell_type": "code",
      "metadata": {
        "colab": {
          "base_uri": "https://localhost:8080/",
          "height": 282
        },
        "id": "Pb1sKovcH6qJ",
        "outputId": "d2a0ce26-99ef-47c1-e5ba-b1da78fa61db"
      },
      "source": [
        "import matplotlib.pyplot as plt\n",
        "\n",
        "subd = data[['locus_of_control', 'math', 'science', 'read', 'write']]\n",
        "x = data['locus_of_control'].values\n",
        "y = data[['motivation', 'math', 'science', 'read', 'write']].mean(1).values\n",
        "plt.scatter(x,y)\n"
      ],
      "execution_count": null,
      "outputs": [
        {
          "output_type": "execute_result",
          "data": {
            "text/plain": [
              "<matplotlib.collections.PathCollection at 0x7f05ca479a10>"
            ]
          },
          "metadata": {},
          "execution_count": 22
        },
        {
          "output_type": "display_data",
          "data": {
            "image/png": "[encoded data removed]",
            "text/plain": [
              "<Figure size 432x288 with 1 Axes>"
            ]
          },
          "metadata": {
            "needs_background": "light"
          }
        }
      ]
    },
    {
      "cell_type": "code",
      "metadata": {
        "colab": {
          "base_uri": "https://localhost:8080/",
          "height": 282
        },
        "id": "DT7Z8l3tLmaA",
        "outputId": "20076482-686f-4b98-ac64-492c28d3bcd9"
      },
      "source": [
        "subd = data[data['locus_of_control'].values>1]\n",
        "subd.motivation.plot()"
      ],
      "execution_count": null,
      "outputs": [
        {
          "output_type": "execute_result",
          "data": {
            "text/plain": [
              "<matplotlib.axes._subplots.AxesSubplot at 0x7f05ca32f490>"
            ]
          },
          "metadata": {},
          "execution_count": 28
        },
        {
          "output_type": "display_data",
          "data": {
            "image/png": "[encoded data removed]",
            "text/plain": [
              "<Figure size 432x288 with 1 Axes>"
            ]
          },
          "metadata": {
            "needs_background": "light"
          }
        }
      ]
    },
    {
      "cell_type": "code",
      "metadata": {
        "colab": {
          "base_uri": "https://localhost:8080/",
          "height": 297
        },
        "id": "a3n25uOBNIUF",
        "outputId": "d8acd471-614f-4819-aa33-1bd203ea37b2"
      },
      "source": [
        "data.corr()"
      ],
      "execution_count": null,
      "outputs": [
        {
          "output_type": "execute_result",
          "data": {
            "text/html": [
              "<div>\n",
              "<style scoped>\n",
              "    .dataframe tbody tr th:only-of-type {\n",
              "        vertical-align: middle;\n",
              "    }\n",
              "\n",
              "    .dataframe tbody tr th {\n",
              "        vertical-align: top;\n",
              "    }\n",
              "\n",
              "    .dataframe thead th {\n",
              "        text-align: right;\n",
              "    }\n",
              "</style>\n",
              "<table border=\"1\" class=\"dataframe\">\n",
              "  <thead>\n",
              "    <tr style=\"text-align: right;\">\n",
              "      <th></th>\n",
              "      <th>locus_of_control</th>\n",
              "      <th>self_concept</th>\n",
              "      <th>motivation</th>\n",
              "      <th>read</th>\n",
              "      <th>write</th>\n",
              "      <th>math</th>\n",
              "      <th>science</th>\n",
              "      <th>female</th>\n",
              "    </tr>\n",
              "  </thead>\n",
              "  <tbody>\n",
              "    <tr>\n",
              "      <th>locus_of_control</th>\n",
              "      <td>1.000000</td>\n",
              "      <td>0.171188</td>\n",
              "      <td>0.245132</td>\n",
              "      <td>0.373565</td>\n",
              "      <td>0.358877</td>\n",
              "      <td>0.337269</td>\n",
              "      <td>0.324627</td>\n",
              "      <td>0.113411</td>\n",
              "    </tr>\n",
              "    <tr>\n",
              "      <th>self_concept</th>\n",
              "      <td>0.171188</td>\n",
              "      <td>1.000000</td>\n",
              "      <td>0.288571</td>\n",
              "      <td>0.060656</td>\n",
              "      <td>0.019449</td>\n",
              "      <td>0.053598</td>\n",
              "      <td>0.069826</td>\n",
              "      <td>-0.125951</td>\n",
              "    </tr>\n",
              "    <tr>\n",
              "      <th>motivation</th>\n",
              "      <td>0.245132</td>\n",
              "      <td>0.288571</td>\n",
              "      <td>1.000000</td>\n",
              "      <td>0.210610</td>\n",
              "      <td>0.254248</td>\n",
              "      <td>0.195013</td>\n",
              "      <td>0.115669</td>\n",
              "      <td>0.098103</td>\n",
              "    </tr>\n",
              "    <tr>\n",
              "      <th>read</th>\n",
              "      <td>0.373565</td>\n",
              "      <td>0.060656</td>\n",
              "      <td>0.210610</td>\n",
              "      <td>1.000000</td>\n",
              "      <td>0.628591</td>\n",
              "      <td>0.679276</td>\n",
              "      <td>0.690693</td>\n",
              "      <td>-0.041743</td>\n",
              "    </tr>\n",
              "    <tr>\n",
              "      <th>write</th>\n",
              "      <td>0.358877</td>\n",
              "      <td>0.019449</td>\n",
              "      <td>0.254248</td>\n",
              "      <td>0.628591</td>\n",
              "      <td>1.000000</td>\n",
              "      <td>0.632666</td>\n",
              "      <td>0.569150</td>\n",
              "      <td>0.244332</td>\n",
              "    </tr>\n",
              "    <tr>\n",
              "      <th>math</th>\n",
              "      <td>0.337269</td>\n",
              "      <td>0.053598</td>\n",
              "      <td>0.195013</td>\n",
              "      <td>0.679276</td>\n",
              "      <td>0.632666</td>\n",
              "      <td>1.000000</td>\n",
              "      <td>0.649526</td>\n",
              "      <td>-0.048218</td>\n",
              "    </tr>\n",
              "    <tr>\n",
              "      <th>science</th>\n",
              "      <td>0.324627</td>\n",
              "      <td>0.069826</td>\n",
              "      <td>0.115669</td>\n",
              "      <td>0.690693</td>\n",
              "      <td>0.569150</td>\n",
              "      <td>0.649526</td>\n",
              "      <td>1.000000</td>\n",
              "      <td>-0.138186</td>\n",
              "    </tr>\n",
              "    <tr>\n",
              "      <th>female</th>\n",
              "      <td>0.113411</td>\n",
              "      <td>-0.125951</td>\n",
              "      <td>0.098103</td>\n",
              "      <td>-0.041743</td>\n",
              "      <td>0.244332</td>\n",
              "      <td>-0.048218</td>\n",
              "      <td>-0.138186</td>\n",
              "      <td>1.000000</td>\n",
              "    </tr>\n",
              "  </tbody>\n",
              "</table>\n",
              "</div>"
            ],
            "text/plain": [
              "                  locus_of_control  self_concept  ...   science    female\n",
              "locus_of_control          1.000000      0.171188  ...  0.324627  0.113411\n",
              "self_concept              0.171188      1.000000  ...  0.069826 -0.125951\n",
              "motivation                0.245132      0.288571  ...  0.115669  0.098103\n",
              "read                      0.373565      0.060656  ...  0.690693 -0.041743\n",
              "write                     0.358877      0.019449  ...  0.569150  0.244332\n",
              "math                      0.337269      0.053598  ...  0.649526 -0.048218\n",
              "science                   0.324627      0.069826  ...  1.000000 -0.138186\n",
              "female                    0.113411     -0.125951  ... -0.138186  1.000000\n",
              "\n",
              "[8 rows x 8 columns]"
            ]
          },
          "metadata": {},
          "execution_count": 29
        }
      ]
    },
    {
      "cell_type": "markdown",
      "metadata": {
        "id": "uE4Ej4WrNlv-"
      },
      "source": [
        "***perform a hypothesis-driven analysis:***\n",
        "* To perform a hypothesis-driven analysis, one must be very specific about the analyses one wishes to perform. \n",
        "* The null hypothesis must be clearly stated, and the data must be collected in a repeatable manner. \n",
        "* Usually, the sampling design will involve random, stratified random, or regular distribution of study plots. \n",
        "* If there is any subjectivity involved in locating or orienting study plots, the results are technically not valid. \n",
        "* All of the analyses, including variations of data transformation and use of different ordination options (e.g. detrending or not), must be planned in advance, or else the user runs the risk of \"data diving\" or \"data mining\", i.e. getting an artificially significant result because so many options are tried."
      ]
    },
    {
      "cell_type": "markdown",
      "metadata": {
        "id": "3iPyXuXTOQOi"
      },
      "source": [
        "**Exploratory analyses:** <br>\n",
        "* Exploratory analyses might lack statistical rigor, but they are still a mainstay of vegetation research.\n",
        "* The purpose of exploratory analysis is to find pattern in nature, which is an inherently subjective enterprise. \n",
        "* Exploratory analyses incorporate the wisdom, skill, and intuition of the investigator into the experiment. \n",
        "* Unless you can find another investigator with identical wisdom, skill and intuition, the analyses are not strictly repeatable, and are hence not falsifiable. \n",
        "* While it is possible to perform exploratory analyses on sample plots located according to a rigorous, objective sampling design, such careful placement is not necessary. \n",
        "* Indeed, an exploratory analysis can be aided if the investigator subjectively places study plots in locations he or she considers to be important or interesting."
      ]
    },
    {
      "cell_type": "markdown",
      "metadata": {
        "id": "zKFmIg2oO6dw"
      },
      "source": [
        "**Combination 1:**<br>\n",
        "* It is possible to combine exploratory analysis and hypothesis-driven analysis into a larger study. \n",
        "* One way of doing this is to perform a 2-phase study, in which the first phase is an exploratory analysis, perhaps involving subjectively located plots and employing many variations on analysis. \n",
        "* The patterns found in the first phase are then posed as hypotheses for the second phase. \n",
        "* The second phase involves the collection of fresh data from objectively located plots, and an entirely planned data analysis.\n",
        "\n",
        "<br>\n",
        "\n",
        "**Combination 2:**<br>\n",
        "* A second way to combine the two major types of analysis is through data set subdivision. \n",
        "* The data set is randomly divided into two subsets: an exploratory subset and a confirmatory subset (alternatively called model building and model validation, respectively). \n",
        "* If interesting patterns are found with respect to particular environmental variables, and using particular data transformations, these patterns can be statistically tested using the confirmatory subset. \n",
        "To use data set subdivision properly, samples must be objectively located."
      ]
    },
    {
      "cell_type": "markdown",
      "metadata": {
        "id": "AmgrnS8x0dXp"
      },
      "source": [
        "# 11.Multivariate data analysis and visualization"
      ]
    },
    {
      "cell_type": "markdown",
      "metadata": {
        "id": "q8kP6SOO0hHC"
      },
      "source": [
        ""
      ]
    },
    {
      "cell_type": "markdown",
      "metadata": {
        "id": "nnEJSCgy-zWk"
      },
      "source": [
        "#end"
      ]
    }
  ]
}